{
 "metadata": {
  "language_info": {
   "codemirror_mode": {
    "name": "ipython",
    "version": 3
   },
   "file_extension": ".py",
   "mimetype": "text/x-python",
   "name": "python",
   "nbconvert_exporter": "python",
   "pygments_lexer": "ipython3",
   "version": "3.8.1-final"
  },
  "orig_nbformat": 2,
  "kernelspec": {
   "name": "python_defaultSpec_1598871263015",
   "display_name": "Python 3.8.1 64-bit"
  }
 },
 "nbformat": 4,
 "nbformat_minor": 2,
 "cells": [
  {
   "cell_type": "markdown",
   "metadata": {
    "tags": []
   },
   "source": [
    "<h1>First Part (1)</h1>\n",
    "<h3>Import Pandas and scrape the tables from the Wikipedia site using the .read_html function</h3>"
   ]
  },
  {
   "cell_type": "code",
   "execution_count": 81,
   "metadata": {},
   "outputs": [],
   "source": [
    "import pandas as pd\n",
    "url = 'https://en.wikipedia.org/wiki/List_of_postal_codes_of_Canada:_M'\n",
    "df_neighbour_tables = pd.read_html(url)"
   ]
  },
  {
   "cell_type": "markdown",
   "metadata": {},
   "source": [
    "<h3>Select the right table for the project and display the first 5 records</h3>"
   ]
  },
  {
   "cell_type": "code",
   "execution_count": 82,
   "metadata": {},
   "outputs": [],
   "source": [
    "df_neighbours = df_neighbour_tables[0]"
   ]
  },
  {
   "cell_type": "code",
   "execution_count": 83,
   "metadata": {},
   "outputs": [
    {
     "output_type": "execute_result",
     "data": {
      "text/plain": "  PostalCode           Borough              Neighbourhood\n0        M1A      Not assigned               Not assigned\n1        M2A      Not assigned               Not assigned\n2        M3A        North York                  Parkwoods\n3        M4A        North York           Victoria Village\n4        M5A  Downtown Toronto  Regent Park, Harbourfront",
      "text/html": "<div>\n<style scoped>\n    .dataframe tbody tr th:only-of-type {\n        vertical-align: middle;\n    }\n\n    .dataframe tbody tr th {\n        vertical-align: top;\n    }\n\n    .dataframe thead th {\n        text-align: right;\n    }\n</style>\n<table border=\"1\" class=\"dataframe\">\n  <thead>\n    <tr style=\"text-align: right;\">\n      <th></th>\n      <th>PostalCode</th>\n      <th>Borough</th>\n      <th>Neighbourhood</th>\n    </tr>\n  </thead>\n  <tbody>\n    <tr>\n      <th>0</th>\n      <td>M1A</td>\n      <td>Not assigned</td>\n      <td>Not assigned</td>\n    </tr>\n    <tr>\n      <th>1</th>\n      <td>M2A</td>\n      <td>Not assigned</td>\n      <td>Not assigned</td>\n    </tr>\n    <tr>\n      <th>2</th>\n      <td>M3A</td>\n      <td>North York</td>\n      <td>Parkwoods</td>\n    </tr>\n    <tr>\n      <th>3</th>\n      <td>M4A</td>\n      <td>North York</td>\n      <td>Victoria Village</td>\n    </tr>\n    <tr>\n      <th>4</th>\n      <td>M5A</td>\n      <td>Downtown Toronto</td>\n      <td>Regent Park, Harbourfront</td>\n    </tr>\n  </tbody>\n</table>\n</div>"
     },
     "metadata": {},
     "execution_count": 83
    }
   ],
   "source": [
    "# Rename the column of df_neighbours\n",
    "df_neighbours = df_neighbours.rename(columns = {'Postal Code': 'PostalCode'}, inplace = False)\n",
    "df_neighbours.head()"
   ]
  },
  {
   "cell_type": "markdown",
   "metadata": {},
   "source": [
    "<h3>Drop all rows with the Borough value as 'Not assigned'</h3>"
   ]
  },
  {
   "cell_type": "code",
   "execution_count": 84,
   "metadata": {},
   "outputs": [],
   "source": [
    "df_neighbours = df_neighbours[df_neighbours.Borough != \"Not assigned\"]"
   ]
  },
  {
   "cell_type": "code",
   "execution_count": 85,
   "metadata": {},
   "outputs": [
    {
     "output_type": "execute_result",
     "data": {
      "text/plain": "  PostalCode           Borough                                Neighbourhood\n2        M3A        North York                                    Parkwoods\n3        M4A        North York                             Victoria Village\n4        M5A  Downtown Toronto                    Regent Park, Harbourfront\n5        M6A        North York             Lawrence Manor, Lawrence Heights\n6        M7A  Downtown Toronto  Queen's Park, Ontario Provincial Government",
      "text/html": "<div>\n<style scoped>\n    .dataframe tbody tr th:only-of-type {\n        vertical-align: middle;\n    }\n\n    .dataframe tbody tr th {\n        vertical-align: top;\n    }\n\n    .dataframe thead th {\n        text-align: right;\n    }\n</style>\n<table border=\"1\" class=\"dataframe\">\n  <thead>\n    <tr style=\"text-align: right;\">\n      <th></th>\n      <th>PostalCode</th>\n      <th>Borough</th>\n      <th>Neighbourhood</th>\n    </tr>\n  </thead>\n  <tbody>\n    <tr>\n      <th>2</th>\n      <td>M3A</td>\n      <td>North York</td>\n      <td>Parkwoods</td>\n    </tr>\n    <tr>\n      <th>3</th>\n      <td>M4A</td>\n      <td>North York</td>\n      <td>Victoria Village</td>\n    </tr>\n    <tr>\n      <th>4</th>\n      <td>M5A</td>\n      <td>Downtown Toronto</td>\n      <td>Regent Park, Harbourfront</td>\n    </tr>\n    <tr>\n      <th>5</th>\n      <td>M6A</td>\n      <td>North York</td>\n      <td>Lawrence Manor, Lawrence Heights</td>\n    </tr>\n    <tr>\n      <th>6</th>\n      <td>M7A</td>\n      <td>Downtown Toronto</td>\n      <td>Queen's Park, Ontario Provincial Government</td>\n    </tr>\n  </tbody>\n</table>\n</div>"
     },
     "metadata": {},
     "execution_count": 85
    }
   ],
   "source": [
    "df_neighbours.head()"
   ]
  },
  {
   "cell_type": "markdown",
   "metadata": {},
   "source": [
    "<h3>Reset the index of the dataframe as a new dataframe called df_neighbours1</h3>"
   ]
  },
  {
   "cell_type": "code",
   "execution_count": 86,
   "metadata": {},
   "outputs": [],
   "source": [
    "# len(df_neighbours['Postal Code'].unique())\n",
    "# df_neighbours1 = df_neighbours\n",
    "df_neighbours1 = df_neighbours\n",
    "df_neighbours1 = df_neighbours1.reset_index(drop=True)"
   ]
  },
  {
   "cell_type": "markdown",
   "metadata": {},
   "source": [
    "<h3>Replace any 'Not assigned' Neighbourhood with it's Borough</h3>"
   ]
  },
  {
   "cell_type": "code",
   "execution_count": 87,
   "metadata": {
    "tags": []
   },
   "outputs": [],
   "source": [
    "\n",
    "for index, row in df_neighbours1.iterrows():\n",
    "    if (row[\"Neighbourhood\"] == \"Not assigned\"):\n",
    "        row[\"Neighbourhood\"] = row[\"Neighbourhood\"].replace('Not assigned',row[\"Borough\"])\n",
    "        print (row[\"Neighbourhood\"])\n",
    "    # print(row[\"Borough\"], row[\"Neighbourhood\"])\n"
   ]
  },
  {
   "cell_type": "markdown",
   "metadata": {},
   "source": [
    "<h3>Display the number of rows and columns using .shape</h3>"
   ]
  },
  {
   "cell_type": "code",
   "execution_count": 88,
   "metadata": {},
   "outputs": [
    {
     "output_type": "execute_result",
     "data": {
      "text/plain": "(103, 3)"
     },
     "metadata": {},
     "execution_count": 88
    }
   ],
   "source": [
    "df_neighbours1.shape\n",
    "# df_neighbours1[\"PostalCode\"]"
   ]
  },
  {
   "cell_type": "markdown",
   "metadata": {},
   "source": [
    "<h1>Second Part (2)</h1>"
   ]
  },
  {
   "cell_type": "code",
   "execution_count": 89,
   "metadata": {},
   "outputs": [],
   "source": [
    "# define the dataframe columns\n",
    "column_names = ['PostalCode', 'Borough', 'Neighborhood', 'Latitude', 'Longitude'] \n",
    "\n",
    "# instantiate the dataframe\n",
    "neighborhoods = pd.DataFrame(columns=column_names)"
   ]
  },
  {
   "cell_type": "code",
   "execution_count": 90,
   "metadata": {
    "tags": []
   },
   "outputs": [],
   "source": [
    "def lat_lng_coordinates(geo_coords, postal_code):\n",
    "    for index, row in geo_coords.iterrows():\n",
    "        if row['Postal Code'] == postal_code:\n",
    "            lngd = row['Longitude']\n",
    "            latd = row['Latitude']\n",
    "    return [latd, lngd]\n",
    "\n",
    "# lat_lng_coordinates('M5G')\n"
   ]
  },
  {
   "cell_type": "code",
   "execution_count": 91,
   "metadata": {},
   "outputs": [],
   "source": [
    "geo_coords = pd.read_csv('Geospatial_Coordinates.csv')\n",
    "for index, row in df_neighbours1.iterrows():\n",
    "    postal_code = row[\"PostalCode\"]\n",
    "    borough = neighborhood_name = row[\"Borough\"]\n",
    "    neighborhood_name = row[\"Neighbourhood\"]\n",
    "\n",
    "        \n",
    "    neighborhood_latlon = lat_lng_coordinates(geo_coords, postal_code)\n",
    "    neighborhood_lat = neighborhood_latlon[0]\n",
    "    neighborhood_lon = neighborhood_latlon[1]\n",
    "    \n",
    "    neighborhoods = neighborhoods.append({'PostalCode': postal_code,'Borough': borough,\n",
    "                                          'Neighborhood': neighborhood_name,\n",
    "                                          'Latitude': neighborhood_lat,\n",
    "                                          'Longitude': neighborhood_lon}, ignore_index=True)"
   ]
  },
  {
   "cell_type": "code",
   "execution_count": 92,
   "metadata": {},
   "outputs": [
    {
     "output_type": "execute_result",
     "data": {
      "text/plain": "  PostalCode           Borough                                 Neighborhood  \\\n0        M3A        North York                                    Parkwoods   \n1        M4A        North York                             Victoria Village   \n2        M5A  Downtown Toronto                    Regent Park, Harbourfront   \n3        M6A        North York             Lawrence Manor, Lawrence Heights   \n4        M7A  Downtown Toronto  Queen's Park, Ontario Provincial Government   \n\n    Latitude  Longitude  \n0  43.753259 -79.329656  \n1  43.725882 -79.315572  \n2  43.654260 -79.360636  \n3  43.718518 -79.464763  \n4  43.662301 -79.389494  ",
      "text/html": "<div>\n<style scoped>\n    .dataframe tbody tr th:only-of-type {\n        vertical-align: middle;\n    }\n\n    .dataframe tbody tr th {\n        vertical-align: top;\n    }\n\n    .dataframe thead th {\n        text-align: right;\n    }\n</style>\n<table border=\"1\" class=\"dataframe\">\n  <thead>\n    <tr style=\"text-align: right;\">\n      <th></th>\n      <th>PostalCode</th>\n      <th>Borough</th>\n      <th>Neighborhood</th>\n      <th>Latitude</th>\n      <th>Longitude</th>\n    </tr>\n  </thead>\n  <tbody>\n    <tr>\n      <th>0</th>\n      <td>M3A</td>\n      <td>North York</td>\n      <td>Parkwoods</td>\n      <td>43.753259</td>\n      <td>-79.329656</td>\n    </tr>\n    <tr>\n      <th>1</th>\n      <td>M4A</td>\n      <td>North York</td>\n      <td>Victoria Village</td>\n      <td>43.725882</td>\n      <td>-79.315572</td>\n    </tr>\n    <tr>\n      <th>2</th>\n      <td>M5A</td>\n      <td>Downtown Toronto</td>\n      <td>Regent Park, Harbourfront</td>\n      <td>43.654260</td>\n      <td>-79.360636</td>\n    </tr>\n    <tr>\n      <th>3</th>\n      <td>M6A</td>\n      <td>North York</td>\n      <td>Lawrence Manor, Lawrence Heights</td>\n      <td>43.718518</td>\n      <td>-79.464763</td>\n    </tr>\n    <tr>\n      <th>4</th>\n      <td>M7A</td>\n      <td>Downtown Toronto</td>\n      <td>Queen's Park, Ontario Provincial Government</td>\n      <td>43.662301</td>\n      <td>-79.389494</td>\n    </tr>\n  </tbody>\n</table>\n</div>"
     },
     "metadata": {},
     "execution_count": 92
    }
   ],
   "source": [
    "neighborhoods.head()"
   ]
  },
  {
   "cell_type": "markdown",
   "metadata": {},
   "source": [
    "<h1>Part Three (3) - Explore and Cluster Neighborhoods in Toronto</h1>"
   ]
  },
  {
   "cell_type": "markdown",
   "metadata": {},
   "source": [
    "### Create a map of New York with neighborhoods superimposed on top."
   ]
  },
  {
   "cell_type": "code",
   "execution_count": 93,
   "metadata": {},
   "outputs": [
    {
     "output_type": "execute_result",
     "data": {
      "text/plain": "  PostalCode           Borough                                 Neighborhood  \\\n0        M5A  Downtown Toronto                    Regent Park, Harbourfront   \n1        M7A  Downtown Toronto  Queen's Park, Ontario Provincial Government   \n2        M5B  Downtown Toronto                     Garden District, Ryerson   \n3        M5C  Downtown Toronto                               St. James Town   \n4        M5E  Downtown Toronto                                  Berczy Park   \n\n    Latitude  Longitude  \n0  43.654260 -79.360636  \n1  43.662301 -79.389494  \n2  43.657162 -79.378937  \n3  43.651494 -79.375418  \n4  43.644771 -79.373306  ",
      "text/html": "<div>\n<style scoped>\n    .dataframe tbody tr th:only-of-type {\n        vertical-align: middle;\n    }\n\n    .dataframe tbody tr th {\n        vertical-align: top;\n    }\n\n    .dataframe thead th {\n        text-align: right;\n    }\n</style>\n<table border=\"1\" class=\"dataframe\">\n  <thead>\n    <tr style=\"text-align: right;\">\n      <th></th>\n      <th>PostalCode</th>\n      <th>Borough</th>\n      <th>Neighborhood</th>\n      <th>Latitude</th>\n      <th>Longitude</th>\n    </tr>\n  </thead>\n  <tbody>\n    <tr>\n      <th>0</th>\n      <td>M5A</td>\n      <td>Downtown Toronto</td>\n      <td>Regent Park, Harbourfront</td>\n      <td>43.654260</td>\n      <td>-79.360636</td>\n    </tr>\n    <tr>\n      <th>1</th>\n      <td>M7A</td>\n      <td>Downtown Toronto</td>\n      <td>Queen's Park, Ontario Provincial Government</td>\n      <td>43.662301</td>\n      <td>-79.389494</td>\n    </tr>\n    <tr>\n      <th>2</th>\n      <td>M5B</td>\n      <td>Downtown Toronto</td>\n      <td>Garden District, Ryerson</td>\n      <td>43.657162</td>\n      <td>-79.378937</td>\n    </tr>\n    <tr>\n      <th>3</th>\n      <td>M5C</td>\n      <td>Downtown Toronto</td>\n      <td>St. James Town</td>\n      <td>43.651494</td>\n      <td>-79.375418</td>\n    </tr>\n    <tr>\n      <th>4</th>\n      <td>M5E</td>\n      <td>Downtown Toronto</td>\n      <td>Berczy Park</td>\n      <td>43.644771</td>\n      <td>-79.373306</td>\n    </tr>\n  </tbody>\n</table>\n</div>"
     },
     "metadata": {},
     "execution_count": 93
    }
   ],
   "source": [
    "toronto_data = neighborhoods[neighborhoods['Borough'] == 'Downtown Toronto'].reset_index(drop=True)\n",
    "toronto_data.head()"
   ]
  },
  {
   "cell_type": "code",
   "execution_count": 94,
   "metadata": {},
   "outputs": [
    {
     "output_type": "execute_result",
     "data": {
      "text/plain": "<folium.folium.Map at 0x179563aa5b0>",
      "text/html": "<div style=\"width:100%;\"><div style=\"position:relative;width:100%;height:0;padding-bottom:60%;\"><span style=\"color:#565656\">Make this Notebook Trusted to load map: File -> Trust Notebook</span><iframe src=\"about:blank\" style=\"position:absolute;width:100%;height:100%;left:0;top:0;border:none !important;\" data-html=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 onload=\"this.contentDocument.open();this.contentDocument.write(atob(this.getAttribute('data-html')));this.contentDocument.close();\" allowfullscreen webkitallowfullscreen mozallowfullscreen></iframe></div></div>"
     },
     "metadata": {},
     "execution_count": 94
    }
   ],
   "source": [
    "import folium # map rendering library\n",
    "\n",
    "# create map of Toronto using latitude and longitude values\n",
    "latitude = toronto_data.loc[0, 'Latitude']\n",
    "longitude = toronto_data.loc[0, 'Longitude']\n",
    "map_toronto = folium.Map(location=[latitude, longitude], zoom_start=10)\n",
    "\n",
    "# add markers to map\n",
    "for lat, lng, borough, neighborhood in zip(toronto_data['Latitude'], toronto_data['Longitude'], toronto_data['Borough'], toronto_data['Neighborhood']):\n",
    "    label = '{}, {}'.format(neighborhood, borough)\n",
    "    label = folium.Popup(label, parse_html=True)\n",
    "    folium.CircleMarker(\n",
    "        [lat, lng],\n",
    "        radius=5,\n",
    "        popup=label,\n",
    "        color='blue',\n",
    "        fill=True,\n",
    "        fill_color='#3186cc',\n",
    "        fill_opacity=0.7,\n",
    "        parse_html=False).add_to(map_toronto)  \n",
    "    \n",
    "map_toronto"
   ]
  },
  {
   "cell_type": "markdown",
   "metadata": {},
   "source": [
    "#### Define Foursquare Credentials and Version"
   ]
  },
  {
   "cell_type": "code",
   "execution_count": 95,
   "metadata": {
    "tags": []
   },
   "outputs": [
    {
     "output_type": "stream",
     "name": "stdout",
     "text": "Your credentails:\nCLIENT_ID: L3FFB4L5XCCYSXC0TDKGOLKPCGSDQYH5IIBJRB13OJRX3T4H\nCLIENT_SECRET:FNB2D0Q2YLKDYWRRG4ONEUGZJ23BMPQ5NLDJAQMJ2FFLYXOY\n"
    }
   ],
   "source": [
    "CLIENT_ID = 'L3FFB4L5XCCYSXC0TDKGOLKPCGSDQYH5IIBJRB13OJRX3T4H' # your Foursquare ID\n",
    "CLIENT_SECRET = 'FNB2D0Q2YLKDYWRRG4ONEUGZJ23BMPQ5NLDJAQMJ2FFLYXOY' # your Foursquare Secret\n",
    "VERSION = '20180605' # Foursquare API version\n",
    "\n",
    "print('Your credentails:')\n",
    "print('CLIENT_ID: ' + CLIENT_ID)\n",
    "print('CLIENT_SECRET:' + CLIENT_SECRET)"
   ]
  },
  {
   "cell_type": "markdown",
   "metadata": {},
   "source": [
    "#### Let's explore the first neighborhood in our dataframe."
   ]
  },
  {
   "cell_type": "code",
   "execution_count": 96,
   "metadata": {},
   "outputs": [
    {
     "output_type": "execute_result",
     "data": {
      "text/plain": "'Berczy Park'"
     },
     "metadata": {},
     "execution_count": 96
    }
   ],
   "source": [
    "toronto_data.loc[4, 'Neighborhood']"
   ]
  },
  {
   "cell_type": "code",
   "execution_count": 97,
   "metadata": {
    "tags": []
   },
   "outputs": [
    {
     "output_type": "stream",
     "name": "stdout",
     "text": "Latitude and longitude values of Berczy Park are 43.644770799999996, -79.3733064.\n"
    }
   ],
   "source": [
    "# Get the neighborhood's latitude and longitude values\n",
    "neighborhood_latitude = toronto_data.loc[4, 'Latitude'] # neighborhood latitude value\n",
    "neighborhood_longitude = toronto_data.loc[4, 'Longitude'] # neighborhood longitude value\n",
    "neighborhood_name = toronto_data.loc[4, 'Neighborhood'] # neighborhood name\n",
    "\n",
    "print('Latitude and longitude values of {} are {}, {}.'.format(neighborhood_name, \n",
    "                                                               neighborhood_latitude, \n",
    "                                                               neighborhood_longitude))\n",
    "# print(\"Glory\")"
   ]
  },
  {
   "cell_type": "markdown",
   "metadata": {},
   "source": [
    "#### Now, let's get the top 100 venues that are in Regent Park, Harbourfront within a radius of 500 meters."
   ]
  },
  {
   "cell_type": "code",
   "execution_count": 98,
   "metadata": {},
   "outputs": [
    {
     "output_type": "execute_result",
     "data": {
      "text/plain": "'https://api.foursquare.com/v2/venues/explore?&client_id=L3FFB4L5XCCYSXC0TDKGOLKPCGSDQYH5IIBJRB13OJRX3T4H&client_secret=FNB2D0Q2YLKDYWRRG4ONEUGZJ23BMPQ5NLDJAQMJ2FFLYXOY&v=20180605&ll=43.644770799999996,-79.3733064&radius=500&limit=100'"
     },
     "metadata": {},
     "execution_count": 98
    }
   ],
   "source": [
    "# type your answer here\n",
    "\n",
    "#The correct answer is:\n",
    "LIMIT = 100 # limit of number of venues returned by Foursquare API\n",
    "radius = 500 # define radius\n",
    "\n",
    "# create URL\n",
    "url = 'https://api.foursquare.com/v2/venues/explore?&client_id={}&client_secret={}&v={}&ll={},{}&radius={}&limit={}'.format(\n",
    "    CLIENT_ID, \n",
    "    CLIENT_SECRET, \n",
    "    VERSION, \n",
    "    neighborhood_latitude, \n",
    "    neighborhood_longitude, \n",
    "    radius, \n",
    "    LIMIT)\n",
    "url # display URL"
   ]
  },
  {
   "cell_type": "code",
   "execution_count": 99,
   "metadata": {},
   "outputs": [
    {
     "output_type": "execute_result",
     "data": {
      "text/plain": "t': 43.647141,\n        'lng': -79.370898,\n        'labeledLatLngs': [{'label': 'display',\n          'lat': 43.647141,\n          'lng': -79.370898}],\n        'distance': 327,\n        'postalCode': 'M5E 1N1',\n        'cc': 'CA',\n        'city': 'Toronto',\n        'state': 'ON',\n        'country': 'Canada',\n        'formattedAddress': ['18 Lower Jarvis St',\n         'Toronto ON M5E 1N1',\n         'Canada']},\n       'categories': [{'id': '4bf58dd8d48988d10f951735',\n         'name': 'Pharmacy',\n         'pluralName': 'Pharmacies',\n         'shortName': 'Pharmacy',\n         'icon': {'prefix': 'https://ss3.4sqi.net/img/categories_v2/shops/pharmacy_',\n          'suffix': '.png'},\n         'primary': True}],\n       'photos': {'count': 0, 'groups': []}},\n      'referralId': 'e-0-4e8ef512cc21c15fa2e205c6-41'},\n     {'reasons': {'count': 0,\n       'items': [{'summary': 'This spot is popular',\n         'type': 'general',\n         'reasonName': 'globalInteractionReason'}]},\n      'venue': {'id': '537631d2498eb01ecd19fbb2',\n       'name': 'Starbucks',\n       'location': {'address': '1 Yonge St.',\n        'crossStreet': 'Queens Quay',\n        'lat': 43.6425033268289,\n        'lng': -79.37524568288464,\n        'labeledLatLngs': [{'label': 'display',\n          'lat': 43.6425033268289,\n          'lng': -79.37524568288464}],\n        'distance': 296,\n        'cc': 'CA',\n        'neighborhood': 'Harbourfront',\n        'city': 'Toronto',\n        'state': 'ON',\n        'country': 'Canada',\n        'formattedAddress': ['1 Yonge St. (Queens Quay)',\n         'Toronto ON',\n         'Canada']},\n       'categories': [{'id': '4bf58dd8d48988d1e0931735',\n         'name': 'Coffee Shop',\n         'pluralName': 'Coffee Shops',\n         'shortName': 'Coffee Shop',\n         'icon': {'prefix': 'https://ss3.4sqi.net/img/categories_v2/food/coffeeshop_',\n          'suffix': '.png'},\n         'primary': True}],\n       'photos': {'count': 0, 'groups': []}},\n      'referralId': 'e-0-537631d2498eb01ecd19fbb2-42'},\n     {'reasons': {'count': 0,\n       'items': [{'summary': 'This spot is popular',\n         'type': 'general',\n         'reasonName': 'globalInteractionReason'}]},\n      'venue': {'id': '4b647148f964a52080b32ae3',\n       'name': 'Carousel Bakery',\n       'location': {'address': 'St Lawrence Market',\n        'crossStreet': 'Upper Level 42',\n        'lat': 43.6487072781773,\n        'lng': -79.37158005127563,\n        'labeledLatLngs': [{'label': 'display',\n          'lat': 43.6487072781773,\n          'lng': -79.37158005127563}],\n        'distance': 459,\n        'postalCode': 'M5E 1C3',\n        'cc': 'CA',\n        'city': 'Toronto',\n        'state': 'ON',\n        'country': 'Canada',\n        'formattedAddress': ['St Lawrence Market (Upper Level 42)',\n         'Toronto ON M5E 1C3',\n         'Canada']},\n       'categories': [{'id': '4bf58dd8d48988d16a941735',\n         'name': 'Bakery',\n         'pluralName': 'Bakeries',\n         'shortName': 'Bakery',\n         'icon': {'prefix': 'https://ss3.4sqi.net/img/categories_v2/food/bakery_',\n          'suffix': '.png'},\n         'primary': True}],\n       'photos': {'count': 0, 'groups': []}},\n      'referralId': 'e-0-4b647148f964a52080b32ae3-43'},\n     {'reasons': {'count': 0,\n       'items': [{'summary': 'This spot is popular',\n         'type': 'general',\n         'reasonName': 'globalInteractionReason'}]},\n      'venue': {'id': '50fd7b1b582f9d035e57a426',\n       'name': 'The Works Gourmet Burger Bistro',\n       'location': {'address': '60 Wellington St E',\n        'crossStreet': 'at Church St.',\n        'lat': 43.648742,\n        'lng': -79.374142,\n        'labeledLatLngs': [{'label': 'display',\n          'lat': 43.648742,\n          'lng': -79.374142}],\n        'distance': 447,\n        'postalCode': 'M5E 1C7',\n        'cc': 'CA',\n        'city': 'Toronto',\n        'state': 'ON',\n        'country': 'Canada',\n        'formattedAddress': ['60 Wellington St E (at Church St.)',\n         'Toronto ON M5E 1C7',\n         'Canada']},\n       'categories': [{'id': '4bf58dd8d48988d1c4941735',\n         'name': 'Restaurant',\n         'pluralName': 'Restaurants',\n         'shortName': 'Restaurant',\n         'icon': {'prefix': 'https://ss3.4sqi.net/img/categories_v2/food/default_',\n          'suffix': '.png'},\n         'primary': True}],\n       'photos': {'count': 0, 'groups': []}},\n      'referralId': 'e-0-50fd7b1b582f9d035e57a426-44'},\n     {'reasons': {'count': 0,\n       'items': [{'summary': 'This spot is popular',\n         'type': 'general',\n         'reasonName': 'globalInteractionReason'}]},\n      'venue': {'id': '4ad7b757f964a520ff0d21e3',\n       'name': 'Harbour 60 Toronto',\n       'location': {'address': '60 Harbour St',\n        'crossStreet': 'at Yonge St.',\n        'lat': 43.64222021431867,\n        'lng': -79.37794459004243,\n        'labeledLatLngs': [{'label': 'display',\n          'lat': 43.64222021431867,\n          'lng': -79.37794459004243}],\n        'distance': 469,\n        'postalCode': 'M5J 1B7',\n        'cc': 'CA',\n        'city': 'Toronto',\n        'state': 'ON',\n        'country': 'Canada',\n        'formattedAddress': ['60 Harbour St (at Yonge St.)',\n         'Toronto ON M5J 1B7',\n         'Canada']},\n       'categories': [{'id': '4bf58dd8d48988d1cc941735',\n         'name': 'Steakhouse',\n         'pluralName': 'Steakhouses',\n         'shortName': 'Steakhouse',\n         'icon': {'prefix': 'https://ss3.4sqi.net/img/categories_v2/food/steakhouse_',\n          'suffix': '.png'},\n         'primary': True}],\n       'photos': {'count': 0, 'groups': []},\n       'venuePage': {'id': '540371736'}},\n      'referralId': 'e-0-4ad7b757f964a520ff0d21e3-45'},\n     {'reasons': {'count': 0,\n       'items': [{'summary': 'This spot is popular',\n         'type': 'general',\n         'reasonName': 'globalInteractionReason'}]},\n      'venue': {'id': '4b09c4a9f964a5203b1d23e3',\n       'name': 'Joe Fresh',\n       'location': {'address': '10 Lower Jarvis St',\n        'crossStreet': 'at Queens Quay E',\n        'lat': 43.644285,\n        'lng': -79.369771,\n        'labeledLatLngs': [{'label': 'display',\n          'lat': 43.644285,\n          'lng': -79.369771}],\n        'distance': 289,\n        'postalCode': 'M5E 1Z2',\n        'cc': 'CA',\n        'city': 'Toronto',\n        'state': 'ON',\n        'country': 'Canada',\n        'formattedAddress': ['10 Lower Jarvis St (at Queens Quay E)',\n         'Toronto ON M5E 1Z2',\n         'Canada']},\n       'categories': [{'id': '4bf58dd8d48988d103951735',\n         'name': 'Clothing Store',\n         'pluralName': 'Clothing Stores',\n         'shortName': 'Apparel',\n         'icon': {'prefix': 'https://ss3.4sqi.net/img/categories_v2/shops/apparel_',\n          'suffix': '.png'},\n         'primary': True}],\n       'photos': {'count': 0, 'groups': []}},\n      'referralId': 'e-0-4b09c4a9f964a5203b1d23e3-46'},\n     {'reasons': {'count': 0,\n       'items': [{'summary': 'This spot is popular',\n         'type': 'general',\n         'reasonName': 'globalInteractionReason'}]},\n      'venue': {'id': '4b75f350f964a5207c312ee3',\n       'name': \"Alexandro's World Famous Gyros\",\n       'location': {'address': '5 Queens Quay W',\n        'crossStreet': 'btwn. Yonge St. and Bay St.',\n        'lat': 43.6416627086796,\n        'lng': -79.3752137736969,\n        'labeledLatLngs': [{'label': 'display',\n          'lat': 43.6416627086796,\n          'lng': -79.3752137736969}],\n        'distance': 378,\n        'cc': 'CA',\n        'city': 'Toronto',\n        'state': 'ON',\n        'country': 'Canada',\n        'formattedAddress': ['5 Queens Quay W (btwn. Yonge St. and Bay St.)',\n         'Toronto ON',\n         'Canada']},\n       'categories': [{'id': '4bf58dd8d48988d10e941735',\n         'name': 'Greek Restaurant',\n         'pluralName': 'Greek Restaurants',\n         'shortName': 'Greek',\n         'icon': {'prefix': 'https://ss3.4sqi.net/img/categories_v2/food/greek_',\n          'suffix': '.png'},\n         'primary': True}],\n       'photos': {'count': 0, 'groups': []}},\n      'referralId': 'e-0-4b75f350f964a5207c312ee3-47'},\n     {'reasons': {'count': 0,\n       'items': [{'summary': 'This spot is popular',\n         'type': 'general',\n         'reasonName': 'globalInteractionReason'}]},\n      'venue': {'id': '4b3d5882f964a520d29225e3',\n       'name': 'Oyshi Sushi',\n       'location': {'address': '12 Queens Quay W',\n        'crossStreet': 'at Yonge St',\n        'lat': 43.64234005516476,\n        'lng': -79.37585304260914,\n        'labeledLatLngs': [{'label': 'display',\n          'lat': 43.64234005516476,\n          'lng': -79.37585304260914}],\n        'distance': 339,\n        'postalCode': 'M5J 2R9',\n        'cc': 'CA',\n        'city': 'Toronto',\n        'state': 'ON',\n        'country': 'Canada',\n        'formattedAddress': ['12 Queens Quay W (at Yonge St)',\n         'Toronto ON M5J 2R9',\n         'Canada']},\n       'categories': [{'id': '4bf58dd8d48988d1d2941735',\n         'name': 'Sushi Restaurant',\n         'pluralName': 'Sushi Restaurants',\n         'shortName': 'Sushi',\n         'icon': {'prefix': 'https://ss3.4sqi.net/img/categories_v2/food/sushi_',\n          'suffix': '.png'},\n         'primary': True}],\n       'photos': {'count': 0, 'groups': []}},\n      'referralId': 'e-0-4b3d5882f964a520d29225e3-48'},\n     {'reasons': {'count': 0,\n       'items': [{'summary': 'This spot is popular',\n         'type': 'general',\n         'reasonName': 'globalInteractionReason'}]},\n      'venue': {'id': '4b757dcdf964a520980f2ee3',\n       'name': \"Anton Kozlik's mustard\",\n       'location': {'lat': 43.64875242328643,\n        'lng': -79.37148453951065,\n        'labeledLatLngs': [{'label': 'display',\n          'lat': 43.64875242328643,\n          'lng': -79.37148453951065}],\n        'distance': 466,\n        'cc': 'CA',\n        'city': 'Toronto',\n        'state': 'ON',\n        'country': 'Canada',\n        'formattedAddress': ['Toronto ON', 'Canada']},\n       'categories': [{'id': '4bf58dd8d48988d1f5941735',\n         'name': 'Gourmet Shop',\n         'pluralName': 'Gourmet Shops',\n         'shortName': 'Gourmet',\n         'icon': {'prefix': 'https://ss3.4sqi.net/img/categories_v2/shops/food_gourmet_',\n          'suffix': '.png'},\n         'primary': True}],\n       'photos': {'count': 0, 'groups': []}},\n      'referralId': 'e-0-4b757dcdf964a520980f2ee3-49'},\n     {'reasons': {'count': 0,\n       'items': [{'summary': 'This spot is popular',\n         'type': 'general',\n         'reasonName': 'globalInteractionReason'}]},\n      'venue': {'id': '4b0874b4f964a520420c23e3',\n       'name': 'Flatiron & Firkin',\n       'location': {'address': '49 Wellington St. E.',\n        'crossStreet': 'at Church St.',\n        'lat': 43.64847973229253,\n        'lng': -79.37410856644016,\n        'labeledLatLngs': [{'label': 'display',\n          'lat': 43.64847973229253,\n          'lng': -79.37410856644016}],\n        'distance': 417,\n        'postalCode': 'M5E 1C9',\n        'cc': 'CA',\n        'city': 'Toronto',\n        'state': 'ON',\n        'country': 'Canada',\n        'formattedAddress': ['49 Wellington St. E. (at Church St.)',\n         'Toronto ON M5E 1C9',\n         'Canada']},\n       'categories': [{'id': '4bf58dd8d48988d11b941735',\n         'name': 'Pub',\n         'pluralName': 'Pubs',\n         'shortName': 'Pub',\n         'icon': {'prefix': 'https://ss3.4sqi.net/img/categories_v2/nightlife/pub_',\n          'suffix': '.png'},\n         'primary': True}],\n       'photos': {'count': 0, 'groups': []}},\n      'referralId': 'e-0-4b0874b4f964a520420c23e3-50'},\n     {'reasons': {'count': 0,\n       'items': [{'summary': 'This spot is popular',\n         'type': 'general',\n         'reasonName': 'globalInteractionReason'}]},\n      'venue': {'id': '4b3cf988f964a520ea8a25e3',\n       'name': 'St. Urbain Bagel',\n       'location': {'address': '93 Front St E',\n        'crossStreet': 'btwn Lower Jarvis St & Market St',\n        'lat': 43.64861083503254,\n        'lng': -79.37149723554923,\n        'labeledLatLngs': [{'label': 'display',\n          'lat': 43.64861083503254,\n          'lng': -79.37149723554923}],\n        'distance': 451,\n        'postalCode': 'M5E 1C3',\n        'cc': 'CA',\n        'neighborhood': 'St. Lawrence, Toronto, ON',\n        'city': 'Toronto',\n        'state': 'ON',\n        'country': 'Canada',\n        'formattedAddress': ['93 Front St E (btwn Lower Jarvis St & Market St)',\n         'Toronto ON M5E 1C3',\n         'Canada']},\n       'categories': [{'id': '4bf58dd8d48988d179941735',\n         'name': 'Bagel Shop',\n         'pluralName': 'Bagel Shops',\n         'shortName': 'Bagels',\n         'icon': {'prefix': 'https://ss3.4sqi.net/img/categories_v2/food/bagels_',\n          'suffix': '.png'},\n         'primary': True}],\n       'photos': {'count': 0, 'groups': []}},\n      'referralId': 'e-0-4b3cf988f964a520ea8a25e3-51'},\n     {'reasons': {'count': 0,\n       'items': [{'summary': 'This spot is popular',\n         'type': 'general',\n         'reasonName': 'globalInteractionReason'}]},\n      'venue': {'id': '53e98197498eb45252061be1',\n       'name': 'Tim Hortons',\n       'location': {'address': '77 Lower Jarvis',\n        'lat': 43.6477612,\n        'lng': -79.3704963,\n        'labeledLatLngs': [{'label': 'display',\n          'lat': 43.6477612,\n          'lng': -79.3704963}],\n        'distance': 402,\n        'postalCode': 'M5E 1N1',\n        'cc': 'CA',\n        'city': 'Toronto',\n        'state': 'ON',\n        'country': 'Canada',\n        'formattedAddress': ['77 Lower Jarvis',\n         'Toronto ON M5E 1N1',\n         'Canada']},\n       'categories': [{'id': '4bf58dd8d48988d1e0931735',\n         'name': 'Coffee Shop',\n         'pluralName': 'Coffee Shops',\n         'shortName': 'Coffee Shop',\n         'icon': {'prefix': 'https://ss3.4sqi.net/img/categories_v2/food/coffeeshop_',\n          'suffix': '.png'},\n         'primary': True}],\n       'photos': {'count': 0, 'groups': []}},\n      'referralId': 'e-0-53e98197498eb45252061be1-52'},\n     {'reasons': {'count': 0,\n       'items': [{'summary': 'This spot is popular',\n         'type': 'general',\n         'reasonName': 'globalInteractionReason'}]},\n      'venue': {'id': '4af5c814f964a520c3fc21e3',\n       'name': 'Uno Mustachio',\n       'location': {'address': '95 Front St. E',\n        'crossStreet': 'at St. Lawrence Market',\n        'lat': 43.64870228575232,\n        'lng': -79.37154020203815,\n        'labeledLatLngs': [{'label': 'display',\n          'lat': 43.64870228575232,\n          'lng': -79.37154020203815}],\n        'distance': 460,\n        'postalCode': 'M5E 1C2',\n        'cc': 'CA',\n        'city': 'Toronto',\n        'state': 'ON',\n        'country': 'Canada',\n        'formattedAddress': ['95 Front St. E (at St. Lawrence Market)',\n         'Toronto ON M5E 1C2',\n         'Canada']},\n       'categories': [{'id': '4bf58dd8d48988d1c5941735',\n         'name': 'Sandwich Place',\n         'pluralName': 'Sandwich Places',\n         'shortName': 'Sandwiches',\n         'icon': {'prefix': 'https://ss3.4sqi.net/img/categories_v2/food/deli_',\n          'suffix': '.png'},\n         'primary': True}],\n       'photos': {'count': 0, 'groups': []}},\n      'referralId': 'e-0-4af5c814f964a520c3fc21e3-53'},\n     {'reasons': {'count': 0,\n       'items': [{'summary': 'This spot is popular',\n         'type': 'general',\n         'reasonName': 'globalInteractionReason'}]},\n      'venue': {'id': '5a18b35ef62e09710bdccd8a',\n       'name': 'The Joint - Hogtown Smoke',\n       'location': {'address': '55 Colborne St',\n        'crossStreet': 'Church St',\n        'lat': 43.649149979382656,\n        'lng': -79.3746782955818,\n        'labeledLatLngs': [{'label': 'display',\n          'lat': 43.649149979382656,\n          'lng': -79.3746782955818}],\n        'distance': 499,\n        'postalCode': 'M5E 1L8',\n        'cc': 'CA',\n        'neighborhood': 'St. Lawrence',\n        'city': 'Toronto',\n        'state': 'ON',\n        'country': 'Canada',\n        'formattedAddress': ['55 Colborne St (Church St)',\n         'Toronto ON M5E 1L8',\n         'Canada']},\n       'categories': [{'id': '4bf58dd8d48988d1df931735',\n         'name': 'BBQ Joint',\n         'pluralName': 'BBQ Joints',\n         'shortName': 'BBQ',\n         'icon': {'prefix': 'https://ss3.4sqi.net/img/categories_v2/food/bbqalt_',\n          'suffix': '.png'},\n         'primary': True}],\n       'photos': {'count': 0, 'groups': []}},\n      'referralId': 'e-0-5a18b35ef62e09710bdccd8a-54'},\n     {'reasons': {'count': 0,\n       'items': [{'summary': 'This spot is popular',\n         'type': 'general',\n         'reasonName': 'globalInteractionReason'}]},\n      'venue': {'id': '4ad4c05ff964a52037f720e3',\n       'name': \"Paddington's Pump\",\n       'location': {'address': '95 Front St E',\n        'crossStreet': 'at Market St.',\n        'lat': 43.649035,\n        'lng': -79.371899,\n        'labeledLatLngs': [{'label': 'display',\n          'lat': 43.649035,\n          'lng': -79.371899}],\n        'distance': 488,\n        'postalCode': 'M5E 1C2',\n        'cc': 'CA',\n        'city': 'Toronto',\n        'state': 'ON',\n        'country': 'Canada',\n        'formattedAddress': ['95 Front St E (at Market St.)',\n         'Toronto ON M5E 1C2',\n         'Canada']},\n       'categories': [{'id': '4bf58dd8d48988d147941735',\n         'name': 'Diner',\n         'pluralName': 'Diners',\n         'shortName': 'Diner',\n         'icon': {'prefix': 'https://ss3.4sqi.net/img/categories_v2/food/diner_',\n          'suffix': '.png'},\n         'primary': True}],\n       'photos': {'count': 0, 'groups': []},\n       'venuePage': {'id': '136511588'}},\n      'referralId': 'e-0-4ad4c05ff964a52037f720e3-55'},\n     {'reasons': {'count': 0,\n       'items': [{'summary': 'This spot is popular',\n         'type': 'general',\n         'reasonName': 'globalInteractionReason'}]},\n      'venue': {'id': '4ad4c063f964a5201df820e3',\n       'name': 'Brookfield Place',\n       'location': {'address': '181 Bay St',\n        'crossStreet': 'at Wellington St. NW',\n        'lat': 43.646790641203026,\n        'lng': -79.37876938530562,\n        'labeledLatLngs': [{'label': 'display',\n          'lat': 43.646790641203026,\n          'lng': -79.37876938530562}],\n        'distance': 494,\n        'postalCode': 'M5J 2T3',\n        'cc': 'CA',\n        'city': 'Toronto',\n        'state': 'ON',\n        'country': 'Canada',\n        'formattedAddress': ['181 Bay St (at Wellington St. NW)',\n         'Toronto ON M5J 2T3',\n         'Canada']},\n       'categories': [{'id': '4bf58dd8d48988d1fd941735',\n         'name': 'Shopping Mall',\n         'pluralName': 'Shopping Malls',\n         'shortName': 'Mall',\n         'icon': {'prefix': 'https://ss3.4sqi.net/img/categories_v2/shops/mall_',\n          'suffix': '.png'},\n         'primary': True}],\n       'photos': {'count': 0, 'groups': []}},\n      'referralId': 'e-0-4ad4c063f964a5201df820e3-56'},\n     {'reasons': {'count': 0,\n       'items': [{'summary': 'This spot is popular',\n         'type': 'general',\n         'reasonName': 'globalInteractionReason'}]},\n      'venue': {'id': '4bf6a4165e800f47b2aee7d4',\n       'name': 'The Gallery',\n       'location': {'address': \"132 Queen's Quay E\",\n        'crossStreet': 'at Jarvis St.',\n        'lat': 43.64462260922038,\n        'lng': -79.36871188062028,\n        'labeledLatLngs': [{'label': 'display',\n          'lat': 43.64462260922038,\n          'lng': -79.36871188062028}],\n        'distance': 370,\n        'postalCode': 'M5A',\n        'cc': 'CA',\n        'city': 'Toronto',\n        'state': 'ON',\n        'country': 'Canada',\n        'formattedAddress': [\"132 Queen's Quay E (at Jarvis St.)\",\n         'Toronto ON M5A',\n         'Canada']},\n       'categories': [{'id': '4bf58dd8d48988d121941735',\n         'name': 'Lounge',\n         'pluralName': 'Lounges',\n         'shortName': 'Lounge',\n         'icon': {'prefix': 'https://ss3.4sqi.net/img/categories_v2/nightlife/default_',\n          'suffix': '.png'},\n         'primary': True}],\n       'photos': {'count': 0, 'groups': []}},\n      'referralId': 'e-0-4bf6a4165e800f47b2aee7d4-57'}]}]}}"
     },
     "metadata": {},
     "execution_count": 99
    }
   ],
   "source": [
    "import json # library to handle JSON files\n",
    "import requests # library to handle requests\n",
    "\n",
    "# Send the GET request and examine the results\n",
    "results = requests.get(url).json()\n",
    "results"
   ]
  },
  {
   "cell_type": "markdown",
   "metadata": {},
   "source": [
    "From the Foursquare lab in the previous module, we know that all the information is in the *items* key. Before we proceed, let's borrow the **get_category_type** function from the Foursquare lab."
   ]
  },
  {
   "cell_type": "code",
   "execution_count": 100,
   "metadata": {},
   "outputs": [],
   "source": [
    "# function that extracts the category of the venue\n",
    "def get_category_type(row):\n",
    "    try:\n",
    "        categories_list = row['categories']\n",
    "    except:\n",
    "        categories_list = row['venue.categories']\n",
    "        \n",
    "    if len(categories_list) == 0:\n",
    "        return None\n",
    "    else:\n",
    "        return categories_list[0]['name']"
   ]
  },
  {
   "cell_type": "markdown",
   "metadata": {},
   "source": [
    "### Now we are ready to clean the json and structure it into a *pandas* dataframe."
   ]
  },
  {
   "cell_type": "code",
   "execution_count": 101,
   "metadata": {},
   "outputs": [
    {
     "output_type": "execute_result",
     "data": {
      "text/plain": "                                   name                     categories  \\\n0                                  LCBO                   Liquor Store   \n1  The Keg Steakhouse + Bar - Esplanade                     Restaurant   \n2                        Fresh On Front  Vegetarian / Vegan Restaurant   \n3                         Meridian Hall                   Concert Hall   \n4                         Biff's Bistro              French Restaurant   \n\n         lat        lng  \n0  43.642944 -79.372440  \n1  43.646712 -79.374768  \n2  43.647815 -79.374453  \n3  43.646292 -79.376022  \n4  43.647085 -79.376342  ",
      "text/html": "<div>\n<style scoped>\n    .dataframe tbody tr th:only-of-type {\n        vertical-align: middle;\n    }\n\n    .dataframe tbody tr th {\n        vertical-align: top;\n    }\n\n    .dataframe thead th {\n        text-align: right;\n    }\n</style>\n<table border=\"1\" class=\"dataframe\">\n  <thead>\n    <tr style=\"text-align: right;\">\n      <th></th>\n      <th>name</th>\n      <th>categories</th>\n      <th>lat</th>\n      <th>lng</th>\n    </tr>\n  </thead>\n  <tbody>\n    <tr>\n      <th>0</th>\n      <td>LCBO</td>\n      <td>Liquor Store</td>\n      <td>43.642944</td>\n      <td>-79.372440</td>\n    </tr>\n    <tr>\n      <th>1</th>\n      <td>The Keg Steakhouse + Bar - Esplanade</td>\n      <td>Restaurant</td>\n      <td>43.646712</td>\n      <td>-79.374768</td>\n    </tr>\n    <tr>\n      <th>2</th>\n      <td>Fresh On Front</td>\n      <td>Vegetarian / Vegan Restaurant</td>\n      <td>43.647815</td>\n      <td>-79.374453</td>\n    </tr>\n    <tr>\n      <th>3</th>\n      <td>Meridian Hall</td>\n      <td>Concert Hall</td>\n      <td>43.646292</td>\n      <td>-79.376022</td>\n    </tr>\n    <tr>\n      <th>4</th>\n      <td>Biff's Bistro</td>\n      <td>French Restaurant</td>\n      <td>43.647085</td>\n      <td>-79.376342</td>\n    </tr>\n  </tbody>\n</table>\n</div>"
     },
     "metadata": {},
     "execution_count": 101
    }
   ],
   "source": [
    "venues = results['response']['groups'][0]['items']\n",
    "    \n",
    "nearby_venues = pd.io.json.json_normalize(venues) # flatten JSON\n",
    "\n",
    "# filter columns\n",
    "filtered_columns = ['venue.name', 'venue.categories', 'venue.location.lat', 'venue.location.lng']\n",
    "nearby_venues =nearby_venues.loc[:, filtered_columns]\n",
    "\n",
    "# filter the category for each row\n",
    "nearby_venues['venue.categories'] = nearby_venues.apply(get_category_type, axis=1)\n",
    "\n",
    "# clean columns\n",
    "nearby_venues.columns = [col.split(\".\")[-1] for col in nearby_venues.columns]\n",
    "\n",
    "nearby_venues.head()"
   ]
  },
  {
   "cell_type": "code",
   "execution_count": 102,
   "metadata": {
    "tags": []
   },
   "outputs": [
    {
     "output_type": "stream",
     "name": "stdout",
     "text": "58 venues were returned by Foursquare.\n"
    }
   ],
   "source": [
    "# And how many venues were returned by Foursquare?\n",
    "\n",
    "print('{} venues were returned by Foursquare.'.format(nearby_venues.shape[0]))"
   ]
  },
  {
   "cell_type": "markdown",
   "metadata": {},
   "source": [
    "### Explore Neighborhoods in Manhattan\n",
    "#### Let's create a function to repeat the same process to all the neighborhoods in Manhattan"
   ]
  },
  {
   "cell_type": "code",
   "execution_count": 103,
   "metadata": {},
   "outputs": [],
   "source": [
    "def getNearbyVenues(names, latitudes, longitudes, radius=500):\n",
    "    \n",
    "    venues_list=[]\n",
    "    for name, lat, lng in zip(names, latitudes, longitudes):\n",
    "        print(name)\n",
    "            \n",
    "        # create the API request URL\n",
    "        url = 'https://api.foursquare.com/v2/venues/explore?&client_id={}&client_secret={}&v={}&ll={},{}&radius={}&limit={}'.format(\n",
    "            CLIENT_ID, \n",
    "            CLIENT_SECRET, \n",
    "            VERSION, \n",
    "            lat, \n",
    "            lng, \n",
    "            radius, \n",
    "            LIMIT)\n",
    "            \n",
    "        # make the GET request\n",
    "        results = requests.get(url).json()[\"response\"]['groups'][0]['items']\n",
    "        \n",
    "        # return only relevant information for each nearby venue\n",
    "        venues_list.append([(\n",
    "            name, \n",
    "            lat, \n",
    "            lng, \n",
    "            v['venue']['name'], \n",
    "            v['venue']['location']['lat'], \n",
    "            v['venue']['location']['lng'],  \n",
    "            v['venue']['categories'][0]['name']) for v in results])\n",
    "\n",
    "    nearby_venues = pd.DataFrame([item for venue_list in venues_list for item in venue_list])\n",
    "    nearby_venues.columns = ['Neighborhood', \n",
    "                  'Neighborhood Latitude', \n",
    "                  'Neighborhood Longitude', \n",
    "                  'Venue', \n",
    "                  'Venue Latitude', \n",
    "                  'Venue Longitude', \n",
    "                  'Venue Category']\n",
    "    \n",
    "    return(nearby_venues)"
   ]
  },
  {
   "cell_type": "code",
   "execution_count": 104,
   "metadata": {
    "tags": []
   },
   "outputs": [
    {
     "output_type": "stream",
     "name": "stdout",
     "text": "Regent Park, Harbourfront\nQueen's Park, Ontario Provincial Government\nGarden District, Ryerson\nSt. James Town\nBerczy Park\nCentral Bay Street\nChristie\nRichmond, Adelaide, King\nHarbourfront East, Union Station, Toronto Islands\nToronto Dominion Centre, Design Exchange\nCommerce Court, Victoria Hotel\nUniversity of Toronto, Harbord\nKensington Market, Chinatown, Grange Park\nCN Tower, King and Spadina, Railway Lands, Harbourfront West, Bathurst Quay, South Niagara, Island airport\nRosedale\nStn A PO Boxes\nSt. James Town, Cabbagetown\nFirst Canadian Place, Underground city\nChurch and Wellesley\n"
    }
   ],
   "source": [
    "\n",
    "toronto_venues = getNearbyVenues(names=toronto_data['Neighborhood'],\n",
    "                                   latitudes=toronto_data['Latitude'],\n",
    "                                   longitudes=toronto_data['Longitude']\n",
    "                                  )\n"
   ]
  },
  {
   "cell_type": "code",
   "execution_count": 105,
   "metadata": {
    "tags": []
   },
   "outputs": [
    {
     "output_type": "stream",
     "name": "stdout",
     "text": "(1254, 7)\n"
    },
    {
     "output_type": "execute_result",
     "data": {
      "text/plain": "                Neighborhood  Neighborhood Latitude  Neighborhood Longitude  \\\n0  Regent Park, Harbourfront               43.65426              -79.360636   \n1  Regent Park, Harbourfront               43.65426              -79.360636   \n2  Regent Park, Harbourfront               43.65426              -79.360636   \n3  Regent Park, Harbourfront               43.65426              -79.360636   \n4  Regent Park, Harbourfront               43.65426              -79.360636   \n\n                    Venue  Venue Latitude  Venue Longitude  \\\n0        Roselle Desserts       43.653447       -79.362017   \n1           Tandem Coffee       43.653559       -79.361809   \n2  Cooper Koo Family YMCA       43.653249       -79.358008   \n3          Impact Kitchen       43.656369       -79.356980   \n4     Body Blitz Spa East       43.654735       -79.359874   \n\n        Venue Category  \n0               Bakery  \n1          Coffee Shop  \n2  Distribution Center  \n3           Restaurant  \n4                  Spa  ",
      "text/html": "<div>\n<style scoped>\n    .dataframe tbody tr th:only-of-type {\n        vertical-align: middle;\n    }\n\n    .dataframe tbody tr th {\n        vertical-align: top;\n    }\n\n    .dataframe thead th {\n        text-align: right;\n    }\n</style>\n<table border=\"1\" class=\"dataframe\">\n  <thead>\n    <tr style=\"text-align: right;\">\n      <th></th>\n      <th>Neighborhood</th>\n      <th>Neighborhood Latitude</th>\n      <th>Neighborhood Longitude</th>\n      <th>Venue</th>\n      <th>Venue Latitude</th>\n      <th>Venue Longitude</th>\n      <th>Venue Category</th>\n    </tr>\n  </thead>\n  <tbody>\n    <tr>\n      <th>0</th>\n      <td>Regent Park, Harbourfront</td>\n      <td>43.65426</td>\n      <td>-79.360636</td>\n      <td>Roselle Desserts</td>\n      <td>43.653447</td>\n      <td>-79.362017</td>\n      <td>Bakery</td>\n    </tr>\n    <tr>\n      <th>1</th>\n      <td>Regent Park, Harbourfront</td>\n      <td>43.65426</td>\n      <td>-79.360636</td>\n      <td>Tandem Coffee</td>\n      <td>43.653559</td>\n      <td>-79.361809</td>\n      <td>Coffee Shop</td>\n    </tr>\n    <tr>\n      <th>2</th>\n      <td>Regent Park, Harbourfront</td>\n      <td>43.65426</td>\n      <td>-79.360636</td>\n      <td>Cooper Koo Family YMCA</td>\n      <td>43.653249</td>\n      <td>-79.358008</td>\n      <td>Distribution Center</td>\n    </tr>\n    <tr>\n      <th>3</th>\n      <td>Regent Park, Harbourfront</td>\n      <td>43.65426</td>\n      <td>-79.360636</td>\n      <td>Impact Kitchen</td>\n      <td>43.656369</td>\n      <td>-79.356980</td>\n      <td>Restaurant</td>\n    </tr>\n    <tr>\n      <th>4</th>\n      <td>Regent Park, Harbourfront</td>\n      <td>43.65426</td>\n      <td>-79.360636</td>\n      <td>Body Blitz Spa East</td>\n      <td>43.654735</td>\n      <td>-79.359874</td>\n      <td>Spa</td>\n    </tr>\n  </tbody>\n</table>\n</div>"
     },
     "metadata": {},
     "execution_count": 105
    }
   ],
   "source": [
    "# Let's check the size of the resulting dataframe\n",
    "print(toronto_venues.shape)\n",
    "toronto_venues.head()"
   ]
  },
  {
   "cell_type": "code",
   "execution_count": 106,
   "metadata": {},
   "outputs": [
    {
     "output_type": "execute_result",
     "data": {
      "text/plain": "                                                    Neighborhood Latitude  \\\nNeighborhood                                                                \nBerczy Park                                                            58   \nCN Tower, King and Spadina, Railway Lands, Harb...                     15   \nCentral Bay Street                                                     65   \nChristie                                                               17   \nChurch and Wellesley                                                   80   \nCommerce Court, Victoria Hotel                                        100   \nFirst Canadian Place, Underground city                                100   \nGarden District, Ryerson                                              100   \nHarbourfront East, Union Station, Toronto Islands                     100   \nKensington Market, Chinatown, Grange Park                              69   \nQueen's Park, Ontario Provincial Government                            35   \nRegent Park, Harbourfront                                              46   \nRichmond, Adelaide, King                                              100   \nRosedale                                                                4   \nSt. James Town                                                         86   \nSt. James Town, Cabbagetown                                            47   \nStn A PO Boxes                                                         97   \nToronto Dominion Centre, Design Exchange                              100   \nUniversity of Toronto, Harbord                                         35   \n\n                                                    Neighborhood Longitude  \\\nNeighborhood                                                                 \nBerczy Park                                                             58   \nCN Tower, King and Spadina, Railway Lands, Harb...                      15   \nCentral Bay Street                                                      65   \nChristie                                                                17   \nChurch and Wellesley                                                    80   \nCommerce Court, Victoria Hotel                                         100   \nFirst Canadian Place, Underground city                                 100   \nGarden District, Ryerson                                               100   \nHarbourfront East, Union Station, Toronto Islands                      100   \nKensington Market, Chinatown, Grange Park                               69   \nQueen's Park, Ontario Provincial Government                             35   \nRegent Park, Harbourfront                                               46   \nRichmond, Adelaide, King                                               100   \nRosedale                                                                 4   \nSt. James Town                                                          86   \nSt. James Town, Cabbagetown                                             47   \nStn A PO Boxes                                                          97   \nToronto Dominion Centre, Design Exchange                               100   \nUniversity of Toronto, Harbord                                          35   \n\n                                                    Venue  Venue Latitude  \\\nNeighborhood                                                                \nBerczy Park                                            58              58   \nCN Tower, King and Spadina, Railway Lands, Harb...     15              15   \nCentral Bay Street                                     65              65   \nChristie                                               17              17   \nChurch and Wellesley                                   80              80   \nCommerce Court, Victoria Hotel                        100             100   \nFirst Canadian Place, Underground city                100             100   \nGarden District, Ryerson                              100             100   \nHarbourfront East, Union Station, Toronto Islands     100             100   \nKensington Market, Chinatown, Grange Park              69              69   \nQueen's Park, Ontario Provincial Government            35              35   \nRegent Park, Harbourfront                              46              46   \nRichmond, Adelaide, King                              100             100   \nRosedale                                                4               4   \nSt. James Town                                         86              86   \nSt. James Town, Cabbagetown                            47              47   \nStn A PO Boxes                                         97              97   \nToronto Dominion Centre, Design Exchange              100             100   \nUniversity of Toronto, Harbord                         35              35   \n\n                                                    Venue Longitude  \\\nNeighborhood                                                          \nBerczy Park                                                      58   \nCN Tower, King and Spadina, Railway Lands, Harb...               15   \nCentral Bay Street                                               65   \nChristie                                                         17   \nChurch and Wellesley                                             80   \nCommerce Court, Victoria Hotel                                  100   \nFirst Canadian Place, Underground city                          100   \nGarden District, Ryerson                                        100   \nHarbourfront East, Union Station, Toronto Islands               100   \nKensington Market, Chinatown, Grange Park                        69   \nQueen's Park, Ontario Provincial Government                      35   \nRegent Park, Harbourfront                                        46   \nRichmond, Adelaide, King                                        100   \nRosedale                                                          4   \nSt. James Town                                                   86   \nSt. James Town, Cabbagetown                                      47   \nStn A PO Boxes                                                   97   \nToronto Dominion Centre, Design Exchange                        100   \nUniversity of Toronto, Harbord                                   35   \n\n                                                    Venue Category  \nNeighborhood                                                        \nBerczy Park                                                     58  \nCN Tower, King and Spadina, Railway Lands, Harb...              15  \nCentral Bay Street                                              65  \nChristie                                                        17  \nChurch and Wellesley                                            80  \nCommerce Court, Victoria Hotel                                 100  \nFirst Canadian Place, Underground city                         100  \nGarden District, Ryerson                                       100  \nHarbourfront East, Union Station, Toronto Islands              100  \nKensington Market, Chinatown, Grange Park                       69  \nQueen's Park, Ontario Provincial Government                     35  \nRegent Park, Harbourfront                                       46  \nRichmond, Adelaide, King                                       100  \nRosedale                                                         4  \nSt. James Town                                                  86  \nSt. James Town, Cabbagetown                                     47  \nStn A PO Boxes                                                  97  \nToronto Dominion Centre, Design Exchange                       100  \nUniversity of Toronto, Harbord                                  35  ",
      "text/html": "<div>\n<style scoped>\n    .dataframe tbody tr th:only-of-type {\n        vertical-align: middle;\n    }\n\n    .dataframe tbody tr th {\n        vertical-align: top;\n    }\n\n    .dataframe thead th {\n        text-align: right;\n    }\n</style>\n<table border=\"1\" class=\"dataframe\">\n  <thead>\n    <tr style=\"text-align: right;\">\n      <th></th>\n      <th>Neighborhood Latitude</th>\n      <th>Neighborhood Longitude</th>\n      <th>Venue</th>\n      <th>Venue Latitude</th>\n      <th>Venue Longitude</th>\n      <th>Venue Category</th>\n    </tr>\n    <tr>\n      <th>Neighborhood</th>\n      <th></th>\n      <th></th>\n      <th></th>\n      <th></th>\n      <th></th>\n      <th></th>\n    </tr>\n  </thead>\n  <tbody>\n    <tr>\n      <th>Berczy Park</th>\n      <td>58</td>\n      <td>58</td>\n      <td>58</td>\n      <td>58</td>\n      <td>58</td>\n      <td>58</td>\n    </tr>\n    <tr>\n      <th>CN Tower, King and Spadina, Railway Lands, Harbourfront West, Bathurst Quay, South Niagara, Island airport</th>\n      <td>15</td>\n      <td>15</td>\n      <td>15</td>\n      <td>15</td>\n      <td>15</td>\n      <td>15</td>\n    </tr>\n    <tr>\n      <th>Central Bay Street</th>\n      <td>65</td>\n      <td>65</td>\n      <td>65</td>\n      <td>65</td>\n      <td>65</td>\n      <td>65</td>\n    </tr>\n    <tr>\n      <th>Christie</th>\n      <td>17</td>\n      <td>17</td>\n      <td>17</td>\n      <td>17</td>\n      <td>17</td>\n      <td>17</td>\n    </tr>\n    <tr>\n      <th>Church and Wellesley</th>\n      <td>80</td>\n      <td>80</td>\n      <td>80</td>\n      <td>80</td>\n      <td>80</td>\n      <td>80</td>\n    </tr>\n    <tr>\n      <th>Commerce Court, Victoria Hotel</th>\n      <td>100</td>\n      <td>100</td>\n      <td>100</td>\n      <td>100</td>\n      <td>100</td>\n      <td>100</td>\n    </tr>\n    <tr>\n      <th>First Canadian Place, Underground city</th>\n      <td>100</td>\n      <td>100</td>\n      <td>100</td>\n      <td>100</td>\n      <td>100</td>\n      <td>100</td>\n    </tr>\n    <tr>\n      <th>Garden District, Ryerson</th>\n      <td>100</td>\n      <td>100</td>\n      <td>100</td>\n      <td>100</td>\n      <td>100</td>\n      <td>100</td>\n    </tr>\n    <tr>\n      <th>Harbourfront East, Union Station, Toronto Islands</th>\n      <td>100</td>\n      <td>100</td>\n      <td>100</td>\n      <td>100</td>\n      <td>100</td>\n      <td>100</td>\n    </tr>\n    <tr>\n      <th>Kensington Market, Chinatown, Grange Park</th>\n      <td>69</td>\n      <td>69</td>\n      <td>69</td>\n      <td>69</td>\n      <td>69</td>\n      <td>69</td>\n    </tr>\n    <tr>\n      <th>Queen's Park, Ontario Provincial Government</th>\n      <td>35</td>\n      <td>35</td>\n      <td>35</td>\n      <td>35</td>\n      <td>35</td>\n      <td>35</td>\n    </tr>\n    <tr>\n      <th>Regent Park, Harbourfront</th>\n      <td>46</td>\n      <td>46</td>\n      <td>46</td>\n      <td>46</td>\n      <td>46</td>\n      <td>46</td>\n    </tr>\n    <tr>\n      <th>Richmond, Adelaide, King</th>\n      <td>100</td>\n      <td>100</td>\n      <td>100</td>\n      <td>100</td>\n      <td>100</td>\n      <td>100</td>\n    </tr>\n    <tr>\n      <th>Rosedale</th>\n      <td>4</td>\n      <td>4</td>\n      <td>4</td>\n      <td>4</td>\n      <td>4</td>\n      <td>4</td>\n    </tr>\n    <tr>\n      <th>St. James Town</th>\n      <td>86</td>\n      <td>86</td>\n      <td>86</td>\n      <td>86</td>\n      <td>86</td>\n      <td>86</td>\n    </tr>\n    <tr>\n      <th>St. James Town, Cabbagetown</th>\n      <td>47</td>\n      <td>47</td>\n      <td>47</td>\n      <td>47</td>\n      <td>47</td>\n      <td>47</td>\n    </tr>\n    <tr>\n      <th>Stn A PO Boxes</th>\n      <td>97</td>\n      <td>97</td>\n      <td>97</td>\n      <td>97</td>\n      <td>97</td>\n      <td>97</td>\n    </tr>\n    <tr>\n      <th>Toronto Dominion Centre, Design Exchange</th>\n      <td>100</td>\n      <td>100</td>\n      <td>100</td>\n      <td>100</td>\n      <td>100</td>\n      <td>100</td>\n    </tr>\n    <tr>\n      <th>University of Toronto, Harbord</th>\n      <td>35</td>\n      <td>35</td>\n      <td>35</td>\n      <td>35</td>\n      <td>35</td>\n      <td>35</td>\n    </tr>\n  </tbody>\n</table>\n</div>"
     },
     "metadata": {},
     "execution_count": 106
    }
   ],
   "source": [
    "toronto_venues.groupby('Neighborhood').count()"
   ]
  },
  {
   "cell_type": "code",
   "execution_count": 107,
   "metadata": {
    "tags": []
   },
   "outputs": [
    {
     "output_type": "stream",
     "name": "stdout",
     "text": "There are 213 uniques categories.\n"
    }
   ],
   "source": [
    "# Let's find out how many unique categories can be curated from all the returned venues\n",
    "\n",
    "print('There are {} uniques categories.'.format(len(toronto_venues['Venue Category'].unique())))"
   ]
  },
  {
   "cell_type": "markdown",
   "metadata": {},
   "source": [
    "## Analyze Each Neighborhood"
   ]
  },
  {
   "cell_type": "code",
   "execution_count": 108,
   "metadata": {},
   "outputs": [
    {
     "output_type": "execute_result",
     "data": {
      "text/plain": "   Yoga Studio  Afghan Restaurant  Airport  Airport Food Court  Airport Gate  \\\n0            0                  0        0                   0             0   \n1            0                  0        0                   0             0   \n2            0                  0        0                   0             0   \n3            0                  0        0                   0             0   \n4            0                  0        0                   0             0   \n\n   Airport Lounge  Airport Service  Airport Terminal  American Restaurant  \\\n0               0                0                 0                    0   \n1               0                0                 0                    0   \n2               0                0                 0                    0   \n3               0                0                 0                    0   \n4               0                0                 0                    0   \n\n   Antique Shop  ...  Theme Restaurant  Toy / Game Store  Trail  \\\n0             0  ...                 0                 0      0   \n1             0  ...                 0                 0      0   \n2             0  ...                 0                 0      0   \n3             0  ...                 0                 0      0   \n4             0  ...                 0                 0      0   \n\n   Train Station  Vegetarian / Vegan Restaurant  Video Game Store  \\\n0              0                              0                 0   \n1              0                              0                 0   \n2              0                              0                 0   \n3              0                              0                 0   \n4              0                              0                 0   \n\n   Vietnamese Restaurant  Wine Bar  Wine Shop  Women's Store  \n0                      0         0          0              0  \n1                      0         0          0              0  \n2                      0         0          0              0  \n3                      0         0          0              0  \n4                      0         0          0              0  \n\n[5 rows x 213 columns]",
      "text/html": "<div>\n<style scoped>\n    .dataframe tbody tr th:only-of-type {\n        vertical-align: middle;\n    }\n\n    .dataframe tbody tr th {\n        vertical-align: top;\n    }\n\n    .dataframe thead th {\n        text-align: right;\n    }\n</style>\n<table border=\"1\" class=\"dataframe\">\n  <thead>\n    <tr style=\"text-align: right;\">\n      <th></th>\n      <th>Yoga Studio</th>\n      <th>Afghan Restaurant</th>\n      <th>Airport</th>\n      <th>Airport Food Court</th>\n      <th>Airport Gate</th>\n      <th>Airport Lounge</th>\n      <th>Airport Service</th>\n      <th>Airport Terminal</th>\n      <th>American Restaurant</th>\n      <th>Antique Shop</th>\n      <th>...</th>\n      <th>Theme Restaurant</th>\n      <th>Toy / Game Store</th>\n      <th>Trail</th>\n      <th>Train Station</th>\n      <th>Vegetarian / Vegan Restaurant</th>\n      <th>Video Game Store</th>\n      <th>Vietnamese Restaurant</th>\n      <th>Wine Bar</th>\n      <th>Wine Shop</th>\n      <th>Women's Store</th>\n    </tr>\n  </thead>\n  <tbody>\n    <tr>\n      <th>0</th>\n      <td>0</td>\n      <td>0</td>\n      <td>0</td>\n      <td>0</td>\n      <td>0</td>\n      <td>0</td>\n      <td>0</td>\n      <td>0</td>\n      <td>0</td>\n      <td>0</td>\n      <td>...</td>\n      <td>0</td>\n      <td>0</td>\n      <td>0</td>\n      <td>0</td>\n      <td>0</td>\n      <td>0</td>\n      <td>0</td>\n      <td>0</td>\n      <td>0</td>\n      <td>0</td>\n    </tr>\n    <tr>\n      <th>1</th>\n      <td>0</td>\n      <td>0</td>\n      <td>0</td>\n      <td>0</td>\n      <td>0</td>\n      <td>0</td>\n      <td>0</td>\n      <td>0</td>\n      <td>0</td>\n      <td>0</td>\n      <td>...</td>\n      <td>0</td>\n      <td>0</td>\n      <td>0</td>\n      <td>0</td>\n      <td>0</td>\n      <td>0</td>\n      <td>0</td>\n      <td>0</td>\n      <td>0</td>\n      <td>0</td>\n    </tr>\n    <tr>\n      <th>2</th>\n      <td>0</td>\n      <td>0</td>\n      <td>0</td>\n      <td>0</td>\n      <td>0</td>\n      <td>0</td>\n      <td>0</td>\n      <td>0</td>\n      <td>0</td>\n      <td>0</td>\n      <td>...</td>\n      <td>0</td>\n      <td>0</td>\n      <td>0</td>\n      <td>0</td>\n      <td>0</td>\n      <td>0</td>\n      <td>0</td>\n      <td>0</td>\n      <td>0</td>\n      <td>0</td>\n    </tr>\n    <tr>\n      <th>3</th>\n      <td>0</td>\n      <td>0</td>\n      <td>0</td>\n      <td>0</td>\n      <td>0</td>\n      <td>0</td>\n      <td>0</td>\n      <td>0</td>\n      <td>0</td>\n      <td>0</td>\n      <td>...</td>\n      <td>0</td>\n      <td>0</td>\n      <td>0</td>\n      <td>0</td>\n      <td>0</td>\n      <td>0</td>\n      <td>0</td>\n      <td>0</td>\n      <td>0</td>\n      <td>0</td>\n    </tr>\n    <tr>\n      <th>4</th>\n      <td>0</td>\n      <td>0</td>\n      <td>0</td>\n      <td>0</td>\n      <td>0</td>\n      <td>0</td>\n      <td>0</td>\n      <td>0</td>\n      <td>0</td>\n      <td>0</td>\n      <td>...</td>\n      <td>0</td>\n      <td>0</td>\n      <td>0</td>\n      <td>0</td>\n      <td>0</td>\n      <td>0</td>\n      <td>0</td>\n      <td>0</td>\n      <td>0</td>\n      <td>0</td>\n    </tr>\n  </tbody>\n</table>\n<p>5 rows × 213 columns</p>\n</div>"
     },
     "metadata": {},
     "execution_count": 108
    }
   ],
   "source": [
    "# one hot encoding\n",
    "toronto_onehot = pd.get_dummies(toronto_venues[['Venue Category']], prefix=\"\", prefix_sep=\"\")\n",
    "\n",
    "# add neighborhood column back to dataframe\n",
    "toronto_onehot['Neighborhood'] = toronto_venues['Neighborhood'] \n",
    "\n",
    "# move neighborhood column to the first column\n",
    "fixed_columns = [toronto_onehot.columns[-1]] + list(toronto_onehot.columns[:-1])\n",
    "toronto_onehot = toronto_onehot[fixed_columns]\n",
    "\n",
    "toronto_onehot.head()"
   ]
  },
  {
   "cell_type": "code",
   "execution_count": 109,
   "metadata": {},
   "outputs": [
    {
     "output_type": "execute_result",
     "data": {
      "text/plain": "(1254, 213)"
     },
     "metadata": {},
     "execution_count": 109
    }
   ],
   "source": [
    "# Dataframe size\n",
    "\n",
    "toronto_onehot.shape"
   ]
  },
  {
   "cell_type": "markdown",
   "metadata": {},
   "source": [
    "#### Next, let's group rows by neighborhood and by taking the mean of the frequency of occurrence of each category"
   ]
  },
  {
   "cell_type": "code",
   "execution_count": 110,
   "metadata": {},
   "outputs": [
    {
     "output_type": "execute_result",
     "data": {
      "text/plain": "                                         Neighborhood  Yoga Studio  \\\n0                                         Berczy Park     0.000000   \n1   CN Tower, King and Spadina, Railway Lands, Har...     0.000000   \n2                                  Central Bay Street     0.015385   \n3                                            Christie     0.000000   \n4                                Church and Wellesley     0.025000   \n5                      Commerce Court, Victoria Hotel     0.000000   \n6              First Canadian Place, Underground city     0.000000   \n7                            Garden District, Ryerson     0.000000   \n8   Harbourfront East, Union Station, Toronto Islands     0.000000   \n9           Kensington Market, Chinatown, Grange Park     0.000000   \n10        Queen's Park, Ontario Provincial Government     0.028571   \n11                          Regent Park, Harbourfront     0.021739   \n12                           Richmond, Adelaide, King     0.000000   \n13                                           Rosedale     0.000000   \n14                                     St. James Town     0.000000   \n15                        St. James Town, Cabbagetown     0.000000   \n16                                     Stn A PO Boxes     0.010309   \n17           Toronto Dominion Centre, Design Exchange     0.000000   \n18                     University of Toronto, Harbord     0.028571   \n\n    Afghan Restaurant   Airport  Airport Food Court  Airport Gate  \\\n0              0.0000  0.000000            0.000000      0.000000   \n1              0.0000  0.066667            0.066667      0.066667   \n2              0.0000  0.000000            0.000000      0.000000   \n3              0.0000  0.000000            0.000000      0.000000   \n4              0.0125  0.000000            0.000000      0.000000   \n5              0.0000  0.000000            0.000000      0.000000   \n6              0.0000  0.000000            0.000000      0.000000   \n7              0.0000  0.000000            0.000000      0.000000   \n8              0.0000  0.000000            0.000000      0.000000   \n9              0.0000  0.000000            0.000000      0.000000   \n10             0.0000  0.000000            0.000000      0.000000   \n11             0.0000  0.000000            0.000000      0.000000   \n12             0.0000  0.000000            0.000000      0.000000   \n13             0.0000  0.000000            0.000000      0.000000   \n14             0.0000  0.000000            0.000000      0.000000   \n15             0.0000  0.000000            0.000000      0.000000   \n16             0.0000  0.000000            0.000000      0.000000   \n17             0.0000  0.000000            0.000000      0.000000   \n18             0.0000  0.000000            0.000000      0.000000   \n\n    Airport Lounge  Airport Service  Airport Terminal  American Restaurant  \\\n0         0.000000         0.000000          0.000000             0.000000   \n1         0.133333         0.066667          0.066667             0.000000   \n2         0.000000         0.000000          0.000000             0.000000   \n3         0.000000         0.000000          0.000000             0.000000   \n4         0.000000         0.000000          0.000000             0.012500   \n5         0.000000         0.000000          0.000000             0.040000   \n6         0.000000         0.000000          0.000000             0.030000   \n7         0.000000         0.000000          0.000000             0.000000   \n8         0.000000         0.000000          0.000000             0.000000   \n9         0.000000         0.000000          0.000000             0.000000   \n10        0.000000         0.000000          0.000000             0.000000   \n11        0.000000         0.000000          0.000000             0.000000   \n12        0.000000         0.000000          0.000000             0.020000   \n13        0.000000         0.000000          0.000000             0.000000   \n14        0.000000         0.000000          0.000000             0.034884   \n15        0.000000         0.000000          0.000000             0.000000   \n16        0.000000         0.000000          0.000000             0.010309   \n17        0.000000         0.000000          0.000000             0.030000   \n18        0.000000         0.000000          0.000000             0.000000   \n\n    ...  Theme Restaurant  Toy / Game Store  Trail  Train Station  \\\n0   ...            0.0000              0.00   0.00           0.00   \n1   ...            0.0000              0.00   0.00           0.00   \n2   ...            0.0000              0.00   0.00           0.00   \n3   ...            0.0000              0.00   0.00           0.00   \n4   ...            0.0125              0.00   0.00           0.00   \n5   ...            0.0000              0.00   0.00           0.00   \n6   ...            0.0000              0.00   0.00           0.01   \n7   ...            0.0000              0.01   0.00           0.00   \n8   ...            0.0000              0.00   0.00           0.01   \n9   ...            0.0000              0.00   0.00           0.00   \n10  ...            0.0000              0.00   0.00           0.00   \n11  ...            0.0000              0.00   0.00           0.00   \n12  ...            0.0000              0.01   0.00           0.00   \n13  ...            0.0000              0.00   0.25           0.00   \n14  ...            0.0000              0.00   0.00           0.00   \n15  ...            0.0000              0.00   0.00           0.00   \n16  ...            0.0000              0.00   0.00           0.00   \n17  ...            0.0000              0.00   0.00           0.01   \n18  ...            0.0000              0.00   0.00           0.00   \n\n    Vegetarian / Vegan Restaurant  Video Game Store  Vietnamese Restaurant  \\\n0                        0.017241          0.000000               0.000000   \n1                        0.000000          0.000000               0.000000   \n2                        0.015385          0.000000               0.000000   \n3                        0.000000          0.000000               0.000000   \n4                        0.000000          0.000000               0.012500   \n5                        0.020000          0.000000               0.000000   \n6                        0.010000          0.000000               0.000000   \n7                        0.000000          0.010000               0.010000   \n8                        0.010000          0.000000               0.000000   \n9                        0.057971          0.000000               0.043478   \n10                       0.000000          0.000000               0.000000   \n11                       0.000000          0.000000               0.000000   \n12                       0.010000          0.000000               0.000000   \n13                       0.000000          0.000000               0.000000   \n14                       0.011628          0.000000               0.000000   \n15                       0.000000          0.000000               0.000000   \n16                       0.010309          0.000000               0.000000   \n17                       0.010000          0.000000               0.000000   \n18                       0.000000          0.028571               0.000000   \n\n    Wine Bar  Wine Shop  Women's Store  \n0   0.000000   0.000000           0.00  \n1   0.000000   0.000000           0.00  \n2   0.015385   0.000000           0.00  \n3   0.000000   0.000000           0.00  \n4   0.000000   0.000000           0.00  \n5   0.010000   0.000000           0.00  \n6   0.010000   0.000000           0.00  \n7   0.010000   0.000000           0.00  \n8   0.010000   0.000000           0.00  \n9   0.014493   0.000000           0.00  \n10  0.000000   0.000000           0.00  \n11  0.000000   0.021739           0.00  \n12  0.000000   0.000000           0.01  \n13  0.000000   0.000000           0.00  \n14  0.011628   0.000000           0.00  \n15  0.000000   0.000000           0.00  \n16  0.000000   0.000000           0.00  \n17  0.010000   0.000000           0.00  \n18  0.000000   0.000000           0.00  \n\n[19 rows x 213 columns]",
      "text/html": "<div>\n<style scoped>\n    .dataframe tbody tr th:only-of-type {\n        vertical-align: middle;\n    }\n\n    .dataframe tbody tr th {\n        vertical-align: top;\n    }\n\n    .dataframe thead th {\n        text-align: right;\n    }\n</style>\n<table border=\"1\" class=\"dataframe\">\n  <thead>\n    <tr style=\"text-align: right;\">\n      <th></th>\n      <th>Neighborhood</th>\n      <th>Yoga Studio</th>\n      <th>Afghan Restaurant</th>\n      <th>Airport</th>\n      <th>Airport Food Court</th>\n      <th>Airport Gate</th>\n      <th>Airport Lounge</th>\n      <th>Airport Service</th>\n      <th>Airport Terminal</th>\n      <th>American Restaurant</th>\n      <th>...</th>\n      <th>Theme Restaurant</th>\n      <th>Toy / Game Store</th>\n      <th>Trail</th>\n      <th>Train Station</th>\n      <th>Vegetarian / Vegan Restaurant</th>\n      <th>Video Game Store</th>\n      <th>Vietnamese Restaurant</th>\n      <th>Wine Bar</th>\n      <th>Wine Shop</th>\n      <th>Women's Store</th>\n    </tr>\n  </thead>\n  <tbody>\n    <tr>\n      <th>0</th>\n      <td>Berczy Park</td>\n      <td>0.000000</td>\n      <td>0.0000</td>\n      <td>0.000000</td>\n      <td>0.000000</td>\n      <td>0.000000</td>\n      <td>0.000000</td>\n      <td>0.000000</td>\n      <td>0.000000</td>\n      <td>0.000000</td>\n      <td>...</td>\n      <td>0.0000</td>\n      <td>0.00</td>\n      <td>0.00</td>\n      <td>0.00</td>\n      <td>0.017241</td>\n      <td>0.000000</td>\n      <td>0.000000</td>\n      <td>0.000000</td>\n      <td>0.000000</td>\n      <td>0.00</td>\n    </tr>\n    <tr>\n      <th>1</th>\n      <td>CN Tower, King and Spadina, Railway Lands, Har...</td>\n      <td>0.000000</td>\n      <td>0.0000</td>\n      <td>0.066667</td>\n      <td>0.066667</td>\n      <td>0.066667</td>\n      <td>0.133333</td>\n      <td>0.066667</td>\n      <td>0.066667</td>\n      <td>0.000000</td>\n      <td>...</td>\n      <td>0.0000</td>\n      <td>0.00</td>\n      <td>0.00</td>\n      <td>0.00</td>\n      <td>0.000000</td>\n      <td>0.000000</td>\n      <td>0.000000</td>\n      <td>0.000000</td>\n      <td>0.000000</td>\n      <td>0.00</td>\n    </tr>\n    <tr>\n      <th>2</th>\n      <td>Central Bay Street</td>\n      <td>0.015385</td>\n      <td>0.0000</td>\n      <td>0.000000</td>\n      <td>0.000000</td>\n      <td>0.000000</td>\n      <td>0.000000</td>\n      <td>0.000000</td>\n      <td>0.000000</td>\n      <td>0.000000</td>\n      <td>...</td>\n      <td>0.0000</td>\n      <td>0.00</td>\n      <td>0.00</td>\n      <td>0.00</td>\n      <td>0.015385</td>\n      <td>0.000000</td>\n      <td>0.000000</td>\n      <td>0.015385</td>\n      <td>0.000000</td>\n      <td>0.00</td>\n    </tr>\n    <tr>\n      <th>3</th>\n      <td>Christie</td>\n      <td>0.000000</td>\n      <td>0.0000</td>\n      <td>0.000000</td>\n      <td>0.000000</td>\n      <td>0.000000</td>\n      <td>0.000000</td>\n      <td>0.000000</td>\n      <td>0.000000</td>\n      <td>0.000000</td>\n      <td>...</td>\n      <td>0.0000</td>\n      <td>0.00</td>\n      <td>0.00</td>\n      <td>0.00</td>\n      <td>0.000000</td>\n      <td>0.000000</td>\n      <td>0.000000</td>\n      <td>0.000000</td>\n      <td>0.000000</td>\n      <td>0.00</td>\n    </tr>\n    <tr>\n      <th>4</th>\n      <td>Church and Wellesley</td>\n      <td>0.025000</td>\n      <td>0.0125</td>\n      <td>0.000000</td>\n      <td>0.000000</td>\n      <td>0.000000</td>\n      <td>0.000000</td>\n      <td>0.000000</td>\n      <td>0.000000</td>\n      <td>0.012500</td>\n      <td>...</td>\n      <td>0.0125</td>\n      <td>0.00</td>\n      <td>0.00</td>\n      <td>0.00</td>\n      <td>0.000000</td>\n      <td>0.000000</td>\n      <td>0.012500</td>\n      <td>0.000000</td>\n      <td>0.000000</td>\n      <td>0.00</td>\n    </tr>\n    <tr>\n      <th>5</th>\n      <td>Commerce Court, Victoria Hotel</td>\n      <td>0.000000</td>\n      <td>0.0000</td>\n      <td>0.000000</td>\n      <td>0.000000</td>\n      <td>0.000000</td>\n      <td>0.000000</td>\n      <td>0.000000</td>\n      <td>0.000000</td>\n      <td>0.040000</td>\n      <td>...</td>\n      <td>0.0000</td>\n      <td>0.00</td>\n      <td>0.00</td>\n      <td>0.00</td>\n      <td>0.020000</td>\n      <td>0.000000</td>\n      <td>0.000000</td>\n      <td>0.010000</td>\n      <td>0.000000</td>\n      <td>0.00</td>\n    </tr>\n    <tr>\n      <th>6</th>\n      <td>First Canadian Place, Underground city</td>\n      <td>0.000000</td>\n      <td>0.0000</td>\n      <td>0.000000</td>\n      <td>0.000000</td>\n      <td>0.000000</td>\n      <td>0.000000</td>\n      <td>0.000000</td>\n      <td>0.000000</td>\n      <td>0.030000</td>\n      <td>...</td>\n      <td>0.0000</td>\n      <td>0.00</td>\n      <td>0.00</td>\n      <td>0.01</td>\n      <td>0.010000</td>\n      <td>0.000000</td>\n      <td>0.000000</td>\n      <td>0.010000</td>\n      <td>0.000000</td>\n      <td>0.00</td>\n    </tr>\n    <tr>\n      <th>7</th>\n      <td>Garden District, Ryerson</td>\n      <td>0.000000</td>\n      <td>0.0000</td>\n      <td>0.000000</td>\n      <td>0.000000</td>\n      <td>0.000000</td>\n      <td>0.000000</td>\n      <td>0.000000</td>\n      <td>0.000000</td>\n      <td>0.000000</td>\n      <td>...</td>\n      <td>0.0000</td>\n      <td>0.01</td>\n      <td>0.00</td>\n      <td>0.00</td>\n      <td>0.000000</td>\n      <td>0.010000</td>\n      <td>0.010000</td>\n      <td>0.010000</td>\n      <td>0.000000</td>\n      <td>0.00</td>\n    </tr>\n    <tr>\n      <th>8</th>\n      <td>Harbourfront East, Union Station, Toronto Islands</td>\n      <td>0.000000</td>\n      <td>0.0000</td>\n      <td>0.000000</td>\n      <td>0.000000</td>\n      <td>0.000000</td>\n      <td>0.000000</td>\n      <td>0.000000</td>\n      <td>0.000000</td>\n      <td>0.000000</td>\n      <td>...</td>\n      <td>0.0000</td>\n      <td>0.00</td>\n      <td>0.00</td>\n      <td>0.01</td>\n      <td>0.010000</td>\n      <td>0.000000</td>\n      <td>0.000000</td>\n      <td>0.010000</td>\n      <td>0.000000</td>\n      <td>0.00</td>\n    </tr>\n    <tr>\n      <th>9</th>\n      <td>Kensington Market, Chinatown, Grange Park</td>\n      <td>0.000000</td>\n      <td>0.0000</td>\n      <td>0.000000</td>\n      <td>0.000000</td>\n      <td>0.000000</td>\n      <td>0.000000</td>\n      <td>0.000000</td>\n      <td>0.000000</td>\n      <td>0.000000</td>\n      <td>...</td>\n      <td>0.0000</td>\n      <td>0.00</td>\n      <td>0.00</td>\n      <td>0.00</td>\n      <td>0.057971</td>\n      <td>0.000000</td>\n      <td>0.043478</td>\n      <td>0.014493</td>\n      <td>0.000000</td>\n      <td>0.00</td>\n    </tr>\n    <tr>\n      <th>10</th>\n      <td>Queen's Park, Ontario Provincial Government</td>\n      <td>0.028571</td>\n      <td>0.0000</td>\n      <td>0.000000</td>\n      <td>0.000000</td>\n      <td>0.000000</td>\n      <td>0.000000</td>\n      <td>0.000000</td>\n      <td>0.000000</td>\n      <td>0.000000</td>\n      <td>...</td>\n      <td>0.0000</td>\n      <td>0.00</td>\n      <td>0.00</td>\n      <td>0.00</td>\n      <td>0.000000</td>\n      <td>0.000000</td>\n      <td>0.000000</td>\n      <td>0.000000</td>\n      <td>0.000000</td>\n      <td>0.00</td>\n    </tr>\n    <tr>\n      <th>11</th>\n      <td>Regent Park, Harbourfront</td>\n      <td>0.021739</td>\n      <td>0.0000</td>\n      <td>0.000000</td>\n      <td>0.000000</td>\n      <td>0.000000</td>\n      <td>0.000000</td>\n      <td>0.000000</td>\n      <td>0.000000</td>\n      <td>0.000000</td>\n      <td>...</td>\n      <td>0.0000</td>\n      <td>0.00</td>\n      <td>0.00</td>\n      <td>0.00</td>\n      <td>0.000000</td>\n      <td>0.000000</td>\n      <td>0.000000</td>\n      <td>0.000000</td>\n      <td>0.021739</td>\n      <td>0.00</td>\n    </tr>\n    <tr>\n      <th>12</th>\n      <td>Richmond, Adelaide, King</td>\n      <td>0.000000</td>\n      <td>0.0000</td>\n      <td>0.000000</td>\n      <td>0.000000</td>\n      <td>0.000000</td>\n      <td>0.000000</td>\n      <td>0.000000</td>\n      <td>0.000000</td>\n      <td>0.020000</td>\n      <td>...</td>\n      <td>0.0000</td>\n      <td>0.01</td>\n      <td>0.00</td>\n      <td>0.00</td>\n      <td>0.010000</td>\n      <td>0.000000</td>\n      <td>0.000000</td>\n      <td>0.000000</td>\n      <td>0.000000</td>\n      <td>0.01</td>\n    </tr>\n    <tr>\n      <th>13</th>\n      <td>Rosedale</td>\n      <td>0.000000</td>\n      <td>0.0000</td>\n      <td>0.000000</td>\n      <td>0.000000</td>\n      <td>0.000000</td>\n      <td>0.000000</td>\n      <td>0.000000</td>\n      <td>0.000000</td>\n      <td>0.000000</td>\n      <td>...</td>\n      <td>0.0000</td>\n      <td>0.00</td>\n      <td>0.25</td>\n      <td>0.00</td>\n      <td>0.000000</td>\n      <td>0.000000</td>\n      <td>0.000000</td>\n      <td>0.000000</td>\n      <td>0.000000</td>\n      <td>0.00</td>\n    </tr>\n    <tr>\n      <th>14</th>\n      <td>St. James Town</td>\n      <td>0.000000</td>\n      <td>0.0000</td>\n      <td>0.000000</td>\n      <td>0.000000</td>\n      <td>0.000000</td>\n      <td>0.000000</td>\n      <td>0.000000</td>\n      <td>0.000000</td>\n      <td>0.034884</td>\n      <td>...</td>\n      <td>0.0000</td>\n      <td>0.00</td>\n      <td>0.00</td>\n      <td>0.00</td>\n      <td>0.011628</td>\n      <td>0.000000</td>\n      <td>0.000000</td>\n      <td>0.011628</td>\n      <td>0.000000</td>\n      <td>0.00</td>\n    </tr>\n    <tr>\n      <th>15</th>\n      <td>St. James Town, Cabbagetown</td>\n      <td>0.000000</td>\n      <td>0.0000</td>\n      <td>0.000000</td>\n      <td>0.000000</td>\n      <td>0.000000</td>\n      <td>0.000000</td>\n      <td>0.000000</td>\n      <td>0.000000</td>\n      <td>0.000000</td>\n      <td>...</td>\n      <td>0.0000</td>\n      <td>0.00</td>\n      <td>0.00</td>\n      <td>0.00</td>\n      <td>0.000000</td>\n      <td>0.000000</td>\n      <td>0.000000</td>\n      <td>0.000000</td>\n      <td>0.000000</td>\n      <td>0.00</td>\n    </tr>\n    <tr>\n      <th>16</th>\n      <td>Stn A PO Boxes</td>\n      <td>0.010309</td>\n      <td>0.0000</td>\n      <td>0.000000</td>\n      <td>0.000000</td>\n      <td>0.000000</td>\n      <td>0.000000</td>\n      <td>0.000000</td>\n      <td>0.000000</td>\n      <td>0.010309</td>\n      <td>...</td>\n      <td>0.0000</td>\n      <td>0.00</td>\n      <td>0.00</td>\n      <td>0.00</td>\n      <td>0.010309</td>\n      <td>0.000000</td>\n      <td>0.000000</td>\n      <td>0.000000</td>\n      <td>0.000000</td>\n      <td>0.00</td>\n    </tr>\n    <tr>\n      <th>17</th>\n      <td>Toronto Dominion Centre, Design Exchange</td>\n      <td>0.000000</td>\n      <td>0.0000</td>\n      <td>0.000000</td>\n      <td>0.000000</td>\n      <td>0.000000</td>\n      <td>0.000000</td>\n      <td>0.000000</td>\n      <td>0.000000</td>\n      <td>0.030000</td>\n      <td>...</td>\n      <td>0.0000</td>\n      <td>0.00</td>\n      <td>0.00</td>\n      <td>0.01</td>\n      <td>0.010000</td>\n      <td>0.000000</td>\n      <td>0.000000</td>\n      <td>0.010000</td>\n      <td>0.000000</td>\n      <td>0.00</td>\n    </tr>\n    <tr>\n      <th>18</th>\n      <td>University of Toronto, Harbord</td>\n      <td>0.028571</td>\n      <td>0.0000</td>\n      <td>0.000000</td>\n      <td>0.000000</td>\n      <td>0.000000</td>\n      <td>0.000000</td>\n      <td>0.000000</td>\n      <td>0.000000</td>\n      <td>0.000000</td>\n      <td>...</td>\n      <td>0.0000</td>\n      <td>0.00</td>\n      <td>0.00</td>\n      <td>0.00</td>\n      <td>0.000000</td>\n      <td>0.028571</td>\n      <td>0.000000</td>\n      <td>0.000000</td>\n      <td>0.000000</td>\n      <td>0.00</td>\n    </tr>\n  </tbody>\n</table>\n<p>19 rows × 213 columns</p>\n</div>"
     },
     "metadata": {},
     "execution_count": 110
    }
   ],
   "source": [
    "toronto_grouped = toronto_onehot.groupby('Neighborhood').mean().reset_index()\n",
    "toronto_grouped"
   ]
  },
  {
   "cell_type": "code",
   "execution_count": 111,
   "metadata": {},
   "outputs": [
    {
     "output_type": "execute_result",
     "data": {
      "text/plain": "(19, 213)"
     },
     "metadata": {},
     "execution_count": 111
    }
   ],
   "source": [
    "# New Size\n",
    "\n",
    "toronto_grouped.shape"
   ]
  },
  {
   "cell_type": "code",
   "execution_count": 112,
   "metadata": {
    "tags": []
   },
   "outputs": [
    {
     "output_type": "stream",
     "name": "stdout",
     "text": "----Berczy Park----\n            venue  freq\n0     Coffee Shop  0.09\n1        Beer Bar  0.03\n2    Cocktail Bar  0.03\n3  Farmers Market  0.03\n4     Cheese Shop  0.03\n\n\n----CN Tower, King and Spadina, Railway Lands, Harbourfront West, Bathurst Quay, South Niagara, Island airport----\n                 venue  freq\n0       Airport Lounge  0.13\n1      Harbor / Marina  0.07\n2                  Bar  0.07\n3  Rental Car Location  0.07\n4          Coffee Shop  0.07\n\n\n----Central Bay Street----\n                venue  freq\n0         Coffee Shop  0.18\n1                Café  0.06\n2      Sandwich Place  0.05\n3  Italian Restaurant  0.05\n4         Salad Place  0.03\n\n\n----Christie----\n                venue  freq\n0       Grocery Store  0.24\n1                Café  0.18\n2                Park  0.12\n3  Athletics & Sports  0.06\n4         Candy Store  0.06\n\n\n----Church and Wellesley----\n                 venue  freq\n0          Coffee Shop  0.10\n1  Japanese Restaurant  0.05\n2     Sushi Restaurant  0.05\n3              Gay Bar  0.05\n4           Restaurant  0.04\n\n\n----Commerce Court, Victoria Hotel----\n                 venue  freq\n0          Coffee Shop  0.13\n1           Restaurant  0.07\n2                 Café  0.07\n3                Hotel  0.06\n4  American Restaurant  0.04\n\n\n----First Canadian Place, Underground city----\n                 venue  freq\n0          Coffee Shop  0.11\n1                 Café  0.07\n2                Hotel  0.05\n3  Japanese Restaurant  0.04\n4           Restaurant  0.04\n\n\n----Garden District, Ryerson----\n                 venue  freq\n0       Clothing Store  0.09\n1          Coffee Shop  0.08\n2  Japanese Restaurant  0.03\n3       Cosmetics Shop  0.03\n4                 Café  0.03\n\n\n----Harbourfront East, Union Station, Toronto Islands----\n                 venue  freq\n0          Coffee Shop  0.13\n1             Aquarium  0.05\n2                 Café  0.04\n3                Hotel  0.04\n4  Fried Chicken Joint  0.03\n\n\n----Kensington Market, Chinatown, Grange Park----\n                           venue  freq\n0                    Coffee Shop  0.06\n1  Vegetarian / Vegan Restaurant  0.06\n2                           Café  0.06\n3                            Bar  0.04\n4          Vietnamese Restaurant  0.04\n\n\n----Queen's Park, Ontario Provincial Government----\n                venue  freq\n0         Coffee Shop  0.23\n1   College Cafeteria  0.06\n2  Chinese Restaurant  0.03\n3    Sushi Restaurant  0.03\n4            Beer Bar  0.03\n\n\n----Regent Park, Harbourfront----\n         venue  freq\n0  Coffee Shop  0.15\n1         Café  0.07\n2       Bakery  0.07\n3          Pub  0.07\n4         Park  0.07\n\n\n----Richmond, Adelaide, King----\n            venue  freq\n0     Coffee Shop  0.07\n1            Café  0.05\n2  Clothing Store  0.04\n3             Bar  0.04\n4           Hotel  0.04\n\n\n----Rosedale----\n         venue  freq\n0         Park  0.50\n1   Playground  0.25\n2        Trail  0.25\n3  Yoga Studio  0.00\n4  Music Venue  0.00\n\n\n----St. James Town----\n                 venue  freq\n0                 Café  0.07\n1          Coffee Shop  0.07\n2         Cocktail Bar  0.05\n3             Beer Bar  0.03\n4  American Restaurant  0.03\n\n\n----St. James Town, Cabbagetown----\n                venue  freq\n0         Coffee Shop  0.09\n1                Café  0.06\n2          Restaurant  0.04\n3  Italian Restaurant  0.04\n4         Pizza Place  0.04\n\n\n----Stn A PO Boxes----\n                 venue  freq\n0          Coffee Shop  0.11\n1                 Café  0.04\n2                  Pub  0.04\n3   Seafood Restaurant  0.03\n4  Japanese Restaurant  0.03\n\n\n----Toronto Dominion Centre, Design Exchange----\n                 venue  freq\n0          Coffee Shop  0.14\n1                Hotel  0.08\n2                 Café  0.07\n3           Restaurant  0.04\n4  American Restaurant  0.03\n\n\n----University of Toronto, Harbord----\n                 venue  freq\n0                 Café  0.17\n1               Bakery  0.06\n2           Restaurant  0.06\n3                  Bar  0.06\n4  Japanese Restaurant  0.06\n\n\n"
    }
   ],
   "source": [
    "num_top_venues = 5\n",
    "\n",
    "for hood in toronto_grouped['Neighborhood']:\n",
    "    print(\"----\"+hood+\"----\")\n",
    "    temp = toronto_grouped[toronto_grouped['Neighborhood'] == hood].T.reset_index()\n",
    "    temp.columns = ['venue','freq']\n",
    "    temp = temp.iloc[1:]\n",
    "    temp['freq'] = temp['freq'].astype(float)\n",
    "    temp = temp.round({'freq': 2})\n",
    "    print(temp.sort_values('freq', ascending=False).reset_index(drop=True).head(num_top_venues))\n",
    "    print('\\n')"
   ]
  },
  {
   "cell_type": "markdown",
   "metadata": {},
   "source": [
    "### Let's put that into a *pandas* dataframe"
   ]
  },
  {
   "cell_type": "code",
   "execution_count": 113,
   "metadata": {},
   "outputs": [],
   "source": [
    "# First, let's write a function to sort the venues in descending order.\n",
    "\n",
    "def return_most_common_venues(row, num_top_venues):\n",
    "    row_categories = row.iloc[1:]\n",
    "    row_categories_sorted = row_categories.sort_values(ascending=False)\n",
    "    \n",
    "    return row_categories_sorted.index.values[0:num_top_venues]"
   ]
  },
  {
   "cell_type": "markdown",
   "metadata": {},
   "source": [
    "#### Now let's create the new dataframe and display the top 10 venues for each neighborhood."
   ]
  },
  {
   "cell_type": "code",
   "execution_count": 114,
   "metadata": {},
   "outputs": [
    {
     "output_type": "execute_result",
     "data": {
      "text/plain": "                                        Neighborhood 1st Most Common Venue  \\\n0                                        Berczy Park           Coffee Shop   \n1  CN Tower, King and Spadina, Railway Lands, Har...        Airport Lounge   \n2                                 Central Bay Street           Coffee Shop   \n3                                           Christie         Grocery Store   \n4                               Church and Wellesley           Coffee Shop   \n\n  2nd Most Common Venue 3rd Most Common Venue 4th Most Common Venue  \\\n0           Cheese Shop                  Café                   Pub   \n1      Sculpture Garden      Airport Terminal   Rental Car Location   \n2                  Café        Sandwich Place    Italian Restaurant   \n3                  Café                  Park            Baby Store   \n4               Gay Bar   Japanese Restaurant      Sushi Restaurant   \n\n  5th Most Common Venue 6th Most Common Venue 7th Most Common Venue  \\\n0            Restaurant              Beer Bar    Seafood Restaurant   \n1                 Plane           Coffee Shop                   Bar   \n2           Salad Place             Juice Bar       Thai Restaurant   \n3    Athletics & Sports            Restaurant           Candy Store   \n4            Restaurant           Yoga Studio                 Hotel   \n\n      8th Most Common Venue 9th Most Common Venue 10th Most Common Venue  \n0            Farmers Market          Cocktail Bar                 Bakery  \n1           Harbor / Marina         Boat or Ferry        Airport Service  \n2       Japanese Restaurant          Burger Joint        Bubble Tea Shop  \n3                 Nightclub                 Diner            Coffee Shop  \n4  Mediterranean Restaurant           Men's Store                   Café  ",
      "text/html": "<div>\n<style scoped>\n    .dataframe tbody tr th:only-of-type {\n        vertical-align: middle;\n    }\n\n    .dataframe tbody tr th {\n        vertical-align: top;\n    }\n\n    .dataframe thead th {\n        text-align: right;\n    }\n</style>\n<table border=\"1\" class=\"dataframe\">\n  <thead>\n    <tr style=\"text-align: right;\">\n      <th></th>\n      <th>Neighborhood</th>\n      <th>1st Most Common Venue</th>\n      <th>2nd Most Common Venue</th>\n      <th>3rd Most Common Venue</th>\n      <th>4th Most Common Venue</th>\n      <th>5th Most Common Venue</th>\n      <th>6th Most Common Venue</th>\n      <th>7th Most Common Venue</th>\n      <th>8th Most Common Venue</th>\n      <th>9th Most Common Venue</th>\n      <th>10th Most Common Venue</th>\n    </tr>\n  </thead>\n  <tbody>\n    <tr>\n      <th>0</th>\n      <td>Berczy Park</td>\n      <td>Coffee Shop</td>\n      <td>Cheese Shop</td>\n      <td>Café</td>\n      <td>Pub</td>\n      <td>Restaurant</td>\n      <td>Beer Bar</td>\n      <td>Seafood Restaurant</td>\n      <td>Farmers Market</td>\n      <td>Cocktail Bar</td>\n      <td>Bakery</td>\n    </tr>\n    <tr>\n      <th>1</th>\n      <td>CN Tower, King and Spadina, Railway Lands, Har...</td>\n      <td>Airport Lounge</td>\n      <td>Sculpture Garden</td>\n      <td>Airport Terminal</td>\n      <td>Rental Car Location</td>\n      <td>Plane</td>\n      <td>Coffee Shop</td>\n      <td>Bar</td>\n      <td>Harbor / Marina</td>\n      <td>Boat or Ferry</td>\n      <td>Airport Service</td>\n    </tr>\n    <tr>\n      <th>2</th>\n      <td>Central Bay Street</td>\n      <td>Coffee Shop</td>\n      <td>Café</td>\n      <td>Sandwich Place</td>\n      <td>Italian Restaurant</td>\n      <td>Salad Place</td>\n      <td>Juice Bar</td>\n      <td>Thai Restaurant</td>\n      <td>Japanese Restaurant</td>\n      <td>Burger Joint</td>\n      <td>Bubble Tea Shop</td>\n    </tr>\n    <tr>\n      <th>3</th>\n      <td>Christie</td>\n      <td>Grocery Store</td>\n      <td>Café</td>\n      <td>Park</td>\n      <td>Baby Store</td>\n      <td>Athletics &amp; Sports</td>\n      <td>Restaurant</td>\n      <td>Candy Store</td>\n      <td>Nightclub</td>\n      <td>Diner</td>\n      <td>Coffee Shop</td>\n    </tr>\n    <tr>\n      <th>4</th>\n      <td>Church and Wellesley</td>\n      <td>Coffee Shop</td>\n      <td>Gay Bar</td>\n      <td>Japanese Restaurant</td>\n      <td>Sushi Restaurant</td>\n      <td>Restaurant</td>\n      <td>Yoga Studio</td>\n      <td>Hotel</td>\n      <td>Mediterranean Restaurant</td>\n      <td>Men's Store</td>\n      <td>Café</td>\n    </tr>\n  </tbody>\n</table>\n</div>"
     },
     "metadata": {},
     "execution_count": 114
    }
   ],
   "source": [
    "import numpy as np # library to handle data in a vectorized manner\n",
    "\n",
    "num_top_venues = 10\n",
    "\n",
    "indicators = ['st', 'nd', 'rd']\n",
    "\n",
    "# create columns according to number of top venues\n",
    "columns = ['Neighborhood']\n",
    "for ind in np.arange(num_top_venues):\n",
    "    try:\n",
    "        columns.append('{}{} Most Common Venue'.format(ind+1, indicators[ind]))\n",
    "    except:\n",
    "        columns.append('{}th Most Common Venue'.format(ind+1))\n",
    "\n",
    "# create a new dataframe\n",
    "neighborhoods_venues_sorted = pd.DataFrame(columns=columns)\n",
    "neighborhoods_venues_sorted['Neighborhood'] = toronto_grouped['Neighborhood']\n",
    "\n",
    "for ind in np.arange(toronto_grouped.shape[0]):\n",
    "    neighborhoods_venues_sorted.iloc[ind, 1:] = return_most_common_venues(toronto_grouped.iloc[ind, :], num_top_venues)\n",
    "\n",
    "neighborhoods_venues_sorted.head()"
   ]
  },
  {
   "cell_type": "markdown",
   "metadata": {},
   "source": [
    "## Cluster Neighborhoods"
   ]
  },
  {
   "cell_type": "markdown",
   "metadata": {},
   "source": [
    "Run *k*-means to cluster the neighborhood into 5 clusters."
   ]
  },
  {
   "cell_type": "code",
   "execution_count": 115,
   "metadata": {},
   "outputs": [
    {
     "output_type": "execute_result",
     "data": {
      "text/plain": "array([1, 0, 1, 2, 1, 1, 1, 1, 1, 4])"
     },
     "metadata": {},
     "execution_count": 115
    }
   ],
   "source": [
    "# import k-means from clustering stage\n",
    "from sklearn.cluster import KMeans\n",
    "\n",
    "# set number of clusters\n",
    "kclusters = 5\n",
    "\n",
    "toronto_grouped_clustering = toronto_grouped.drop('Neighborhood', 1)\n",
    "\n",
    "# run k-means clustering\n",
    "kmeans = KMeans(n_clusters=kclusters, random_state=0).fit(toronto_grouped_clustering)\n",
    "\n",
    "# check cluster labels generated for each row in the dataframe\n",
    "kmeans.labels_[0:10] "
   ]
  },
  {
   "cell_type": "markdown",
   "metadata": {},
   "source": [
    "Let's create a new dataframe that includes the cluster as well as the top 10 venues for each neighborhood."
   ]
  },
  {
   "cell_type": "code",
   "execution_count": 116,
   "metadata": {},
   "outputs": [
    {
     "output_type": "execute_result",
     "data": {
      "text/plain": "  PostalCode           Borough                                 Neighborhood  \\\n0        M5A  Downtown Toronto                    Regent Park, Harbourfront   \n1        M7A  Downtown Toronto  Queen's Park, Ontario Provincial Government   \n2        M5B  Downtown Toronto                     Garden District, Ryerson   \n3        M5C  Downtown Toronto                               St. James Town   \n4        M5E  Downtown Toronto                                  Berczy Park   \n\n    Latitude  Longitude  Cluster Labels 1st Most Common Venue  \\\n0  43.654260 -79.360636               4           Coffee Shop   \n1  43.662301 -79.389494               1           Coffee Shop   \n2  43.657162 -79.378937               1        Clothing Store   \n3  43.651494 -79.375418               1                  Café   \n4  43.644771 -79.373306               1           Coffee Shop   \n\n  2nd Most Common Venue 3rd Most Common Venue 4th Most Common Venue  \\\n0                   Pub                Bakery                  Park   \n1     College Cafeteria           Yoga Studio    Mexican Restaurant   \n2           Coffee Shop       Bubble Tea Shop        Cosmetics Shop   \n3           Coffee Shop          Cocktail Bar              Beer Bar   \n4           Cheese Shop                  Café                   Pub   \n\n  5th Most Common Venue 6th Most Common Venue 7th Most Common Venue  \\\n0                  Café        Breakfast Spot               Theater   \n1    Italian Restaurant         Smoothie Shop              Beer Bar   \n2   Japanese Restaurant                  Café      Ramen Restaurant   \n3   American Restaurant   Moroccan Restaurant        Cosmetics Shop   \n4            Restaurant              Beer Bar    Seafood Restaurant   \n\n  8th Most Common Venue 9th Most Common Venue 10th Most Common Venue  \n0  Gym / Fitness Center        Farmers Market  Performing Arts Venue  \n1        Sandwich Place   Distribution Center                  Diner  \n2     Electronics Store                 Diner                  Hotel  \n3              Creperie        Lingerie Store             Restaurant  \n4        Farmers Market          Cocktail Bar                 Bakery  ",
      "text/html": "<div>\n<style scoped>\n    .dataframe tbody tr th:only-of-type {\n        vertical-align: middle;\n    }\n\n    .dataframe tbody tr th {\n        vertical-align: top;\n    }\n\n    .dataframe thead th {\n        text-align: right;\n    }\n</style>\n<table border=\"1\" class=\"dataframe\">\n  <thead>\n    <tr style=\"text-align: right;\">\n      <th></th>\n      <th>PostalCode</th>\n      <th>Borough</th>\n      <th>Neighborhood</th>\n      <th>Latitude</th>\n      <th>Longitude</th>\n      <th>Cluster Labels</th>\n      <th>1st Most Common Venue</th>\n      <th>2nd Most Common Venue</th>\n      <th>3rd Most Common Venue</th>\n      <th>4th Most Common Venue</th>\n      <th>5th Most Common Venue</th>\n      <th>6th Most Common Venue</th>\n      <th>7th Most Common Venue</th>\n      <th>8th Most Common Venue</th>\n      <th>9th Most Common Venue</th>\n      <th>10th Most Common Venue</th>\n    </tr>\n  </thead>\n  <tbody>\n    <tr>\n      <th>0</th>\n      <td>M5A</td>\n      <td>Downtown Toronto</td>\n      <td>Regent Park, Harbourfront</td>\n      <td>43.654260</td>\n      <td>-79.360636</td>\n      <td>4</td>\n      <td>Coffee Shop</td>\n      <td>Pub</td>\n      <td>Bakery</td>\n      <td>Park</td>\n      <td>Café</td>\n      <td>Breakfast Spot</td>\n      <td>Theater</td>\n      <td>Gym / Fitness Center</td>\n      <td>Farmers Market</td>\n      <td>Performing Arts Venue</td>\n    </tr>\n    <tr>\n      <th>1</th>\n      <td>M7A</td>\n      <td>Downtown Toronto</td>\n      <td>Queen's Park, Ontario Provincial Government</td>\n      <td>43.662301</td>\n      <td>-79.389494</td>\n      <td>1</td>\n      <td>Coffee Shop</td>\n      <td>College Cafeteria</td>\n      <td>Yoga Studio</td>\n      <td>Mexican Restaurant</td>\n      <td>Italian Restaurant</td>\n      <td>Smoothie Shop</td>\n      <td>Beer Bar</td>\n      <td>Sandwich Place</td>\n      <td>Distribution Center</td>\n      <td>Diner</td>\n    </tr>\n    <tr>\n      <th>2</th>\n      <td>M5B</td>\n      <td>Downtown Toronto</td>\n      <td>Garden District, Ryerson</td>\n      <td>43.657162</td>\n      <td>-79.378937</td>\n      <td>1</td>\n      <td>Clothing Store</td>\n      <td>Coffee Shop</td>\n      <td>Bubble Tea Shop</td>\n      <td>Cosmetics Shop</td>\n      <td>Japanese Restaurant</td>\n      <td>Café</td>\n      <td>Ramen Restaurant</td>\n      <td>Electronics Store</td>\n      <td>Diner</td>\n      <td>Hotel</td>\n    </tr>\n    <tr>\n      <th>3</th>\n      <td>M5C</td>\n      <td>Downtown Toronto</td>\n      <td>St. James Town</td>\n      <td>43.651494</td>\n      <td>-79.375418</td>\n      <td>1</td>\n      <td>Café</td>\n      <td>Coffee Shop</td>\n      <td>Cocktail Bar</td>\n      <td>Beer Bar</td>\n      <td>American Restaurant</td>\n      <td>Moroccan Restaurant</td>\n      <td>Cosmetics Shop</td>\n      <td>Creperie</td>\n      <td>Lingerie Store</td>\n      <td>Restaurant</td>\n    </tr>\n    <tr>\n      <th>4</th>\n      <td>M5E</td>\n      <td>Downtown Toronto</td>\n      <td>Berczy Park</td>\n      <td>43.644771</td>\n      <td>-79.373306</td>\n      <td>1</td>\n      <td>Coffee Shop</td>\n      <td>Cheese Shop</td>\n      <td>Café</td>\n      <td>Pub</td>\n      <td>Restaurant</td>\n      <td>Beer Bar</td>\n      <td>Seafood Restaurant</td>\n      <td>Farmers Market</td>\n      <td>Cocktail Bar</td>\n      <td>Bakery</td>\n    </tr>\n  </tbody>\n</table>\n</div>"
     },
     "metadata": {},
     "execution_count": 116
    }
   ],
   "source": [
    "# add clustering labels\n",
    "neighborhoods_venues_sorted.insert(0, 'Cluster Labels', kmeans.labels_)\n",
    "\n",
    "toronto_merged = toronto_data\n",
    "\n",
    "# merge toronto_grouped with toronto_data to add latitude/longitude for each neighborhood\n",
    "toronto_merged = toronto_merged.join(neighborhoods_venues_sorted.set_index('Neighborhood'), on='Neighborhood')\n",
    "\n",
    "toronto_merged.head() # check the last columns!"
   ]
  },
  {
   "cell_type": "markdown",
   "metadata": {},
   "source": [
    "Finally, let's visualize the resulting clusters"
   ]
  },
  {
   "cell_type": "code",
   "execution_count": 118,
   "metadata": {},
   "outputs": [
    {
     "output_type": "execute_result",
     "data": {
      "text/plain": "<folium.folium.Map at 0x1795648c7c0>",
      "text/html": "<div style=\"width:100%;\"><div style=\"position:relative;width:100%;height:0;padding-bottom:60%;\"><span style=\"color:#565656\">Make this Notebook Trusted to load map: File -> Trust Notebook</span><iframe src=\"about:blank\" style=\"position:absolute;width:100%;height:100%;left:0;top:0;border:none !important;\" data-html=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 onload=\"this.contentDocument.open();this.contentDocument.write(atob(this.getAttribute('data-html')));this.contentDocument.close();\" allowfullscreen webkitallowfullscreen mozallowfullscreen></iframe></div></div>"
     },
     "metadata": {},
     "execution_count": 118
    }
   ],
   "source": [
    "# Matplotlib and associated plotting modules\n",
    "import matplotlib.cm as cm\n",
    "import matplotlib.colors as colors\n",
    "\n",
    "# create map\n",
    "map_clusters = folium.Map(location=[latitude, longitude], zoom_start=11)\n",
    "\n",
    "# set color scheme for the clusters\n",
    "x = np.arange(kclusters)\n",
    "ys = [i + x + (i*x)**2 for i in range(kclusters)]\n",
    "colors_array = cm.rainbow(np.linspace(0, 1, len(ys)))\n",
    "rainbow = [colors.rgb2hex(i) for i in colors_array]\n",
    "\n",
    "# add markers to the map\n",
    "markers_colors = []\n",
    "for lat, lon, poi, cluster in zip(toronto_merged['Latitude'], toronto_merged['Longitude'], toronto_merged['Neighborhood'], toronto_merged['Cluster Labels']):\n",
    "    label = folium.Popup(str(poi) + ' Cluster ' + str(cluster), parse_html=True)\n",
    "    folium.CircleMarker(\n",
    "        [lat, lon],\n",
    "        radius=5,\n",
    "        popup=label,\n",
    "        color=rainbow[cluster-1],\n",
    "        fill=True,\n",
    "        fill_color=rainbow[cluster-1],\n",
    "        fill_opacity=0.7).add_to(map_clusters)\n",
    "       \n",
    "map_clusters"
   ]
  },
  {
   "cell_type": "markdown",
   "metadata": {},
   "source": [
    "## Examine Clusters"
   ]
  },
  {
   "cell_type": "markdown",
   "metadata": {},
   "source": [
    "Cluster 1"
   ]
  },
  {
   "cell_type": "code",
   "execution_count": 128,
   "metadata": {
    "tags": []
   },
   "outputs": [
    {
     "output_type": "execute_result",
     "data": {
      "text/plain": "             Borough  Cluster Labels 1st Most Common Venue  \\\n13  Downtown Toronto               0        Airport Lounge   \n\n   2nd Most Common Venue 3rd Most Common Venue 4th Most Common Venue  \\\n13      Sculpture Garden      Airport Terminal   Rental Car Location   \n\n   5th Most Common Venue 6th Most Common Venue 7th Most Common Venue  \\\n13                 Plane           Coffee Shop                   Bar   \n\n   8th Most Common Venue 9th Most Common Venue 10th Most Common Venue  \n13       Harbor / Marina         Boat or Ferry        Airport Service  ",
      "text/html": "<div>\n<style scoped>\n    .dataframe tbody tr th:only-of-type {\n        vertical-align: middle;\n    }\n\n    .dataframe tbody tr th {\n        vertical-align: top;\n    }\n\n    .dataframe thead th {\n        text-align: right;\n    }\n</style>\n<table border=\"1\" class=\"dataframe\">\n  <thead>\n    <tr style=\"text-align: right;\">\n      <th></th>\n      <th>Borough</th>\n      <th>Cluster Labels</th>\n      <th>1st Most Common Venue</th>\n      <th>2nd Most Common Venue</th>\n      <th>3rd Most Common Venue</th>\n      <th>4th Most Common Venue</th>\n      <th>5th Most Common Venue</th>\n      <th>6th Most Common Venue</th>\n      <th>7th Most Common Venue</th>\n      <th>8th Most Common Venue</th>\n      <th>9th Most Common Venue</th>\n      <th>10th Most Common Venue</th>\n    </tr>\n  </thead>\n  <tbody>\n    <tr>\n      <th>13</th>\n      <td>Downtown Toronto</td>\n      <td>0</td>\n      <td>Airport Lounge</td>\n      <td>Sculpture Garden</td>\n      <td>Airport Terminal</td>\n      <td>Rental Car Location</td>\n      <td>Plane</td>\n      <td>Coffee Shop</td>\n      <td>Bar</td>\n      <td>Harbor / Marina</td>\n      <td>Boat or Ferry</td>\n      <td>Airport Service</td>\n    </tr>\n  </tbody>\n</table>\n</div>"
     },
     "metadata": {},
     "execution_count": 128
    }
   ],
   "source": [
    "toronto_merged.loc[toronto_merged['Cluster Labels'] == 0, toronto_merged.columns[[1] + list(range(5,toronto_merged.shape[1]))]]"
   ]
  },
  {
   "cell_type": "markdown",
   "metadata": {},
   "source": [
    "Cluster 2"
   ]
  },
  {
   "cell_type": "code",
   "execution_count": 129,
   "metadata": {},
   "outputs": [
    {
     "output_type": "execute_result",
     "data": {
      "text/plain": "             Borough  Cluster Labels 1st Most Common Venue  \\\n1   Downtown Toronto               1           Coffee Shop   \n2   Downtown Toronto               1        Clothing Store   \n3   Downtown Toronto               1                  Café   \n4   Downtown Toronto               1           Coffee Shop   \n5   Downtown Toronto               1           Coffee Shop   \n7   Downtown Toronto               1           Coffee Shop   \n8   Downtown Toronto               1           Coffee Shop   \n9   Downtown Toronto               1           Coffee Shop   \n10  Downtown Toronto               1           Coffee Shop   \n15  Downtown Toronto               1           Coffee Shop   \n17  Downtown Toronto               1           Coffee Shop   \n18  Downtown Toronto               1           Coffee Shop   \n\n   2nd Most Common Venue 3rd Most Common Venue 4th Most Common Venue  \\\n1      College Cafeteria           Yoga Studio    Mexican Restaurant   \n2            Coffee Shop       Bubble Tea Shop        Cosmetics Shop   \n3            Coffee Shop          Cocktail Bar              Beer Bar   \n4            Cheese Shop                  Café                   Pub   \n5                   Café        Sandwich Place    Italian Restaurant   \n7                   Café            Restaurant                   Gym   \n8               Aquarium                 Hotel                  Café   \n9                  Hotel                  Café            Restaurant   \n10            Restaurant                  Café                 Hotel   \n15                   Pub                  Café            Restaurant   \n17                  Café                 Hotel            Restaurant   \n18               Gay Bar   Japanese Restaurant      Sushi Restaurant   \n\n   5th Most Common Venue 6th Most Common Venue 7th Most Common Venue  \\\n1     Italian Restaurant         Smoothie Shop              Beer Bar   \n2    Japanese Restaurant                  Café      Ramen Restaurant   \n3    American Restaurant   Moroccan Restaurant        Cosmetics Shop   \n4             Restaurant              Beer Bar    Seafood Restaurant   \n5            Salad Place             Juice Bar       Thai Restaurant   \n7                  Hotel                   Bar        Clothing Store   \n8                Brewery           Pizza Place   Fried Chicken Joint   \n9     Italian Restaurant   Japanese Restaurant             Gastropub   \n10                   Gym   American Restaurant             Gastropub   \n15              Beer Bar    Seafood Restaurant                 Hotel   \n17   Japanese Restaurant                   Gym      Asian Restaurant   \n18            Restaurant           Yoga Studio                 Hotel   \n\n       8th Most Common Venue 9th Most Common Venue  \\\n1             Sandwich Place   Distribution Center   \n2          Electronics Store                 Diner   \n3                   Creperie        Lingerie Store   \n4             Farmers Market          Cocktail Bar   \n5        Japanese Restaurant          Burger Joint   \n7            Thai Restaurant           Pizza Place   \n8             Scenic Lookout            Restaurant   \n9         Seafood Restaurant   American Restaurant   \n10        Seafood Restaurant         Deli / Bodega   \n15        Italian Restaurant   Japanese Restaurant   \n17                Steakhouse   American Restaurant   \n18  Mediterranean Restaurant           Men's Store   \n\n           10th Most Common Venue  \n1                           Diner  \n2                           Hotel  \n3                      Restaurant  \n4                          Bakery  \n5                 Bubble Tea Shop  \n7                     Salad Place  \n8                            Park  \n9                      Steakhouse  \n10  Vegetarian / Vegan Restaurant  \n15                       Creperie  \n17                    Salad Place  \n18                           Café  ",
      "text/html": "<div>\n<style scoped>\n    .dataframe tbody tr th:only-of-type {\n        vertical-align: middle;\n    }\n\n    .dataframe tbody tr th {\n        vertical-align: top;\n    }\n\n    .dataframe thead th {\n        text-align: right;\n    }\n</style>\n<table border=\"1\" class=\"dataframe\">\n  <thead>\n    <tr style=\"text-align: right;\">\n      <th></th>\n      <th>Borough</th>\n      <th>Cluster Labels</th>\n      <th>1st Most Common Venue</th>\n      <th>2nd Most Common Venue</th>\n      <th>3rd Most Common Venue</th>\n      <th>4th Most Common Venue</th>\n      <th>5th Most Common Venue</th>\n      <th>6th Most Common Venue</th>\n      <th>7th Most Common Venue</th>\n      <th>8th Most Common Venue</th>\n      <th>9th Most Common Venue</th>\n      <th>10th Most Common Venue</th>\n    </tr>\n  </thead>\n  <tbody>\n    <tr>\n      <th>1</th>\n      <td>Downtown Toronto</td>\n      <td>1</td>\n      <td>Coffee Shop</td>\n      <td>College Cafeteria</td>\n      <td>Yoga Studio</td>\n      <td>Mexican Restaurant</td>\n      <td>Italian Restaurant</td>\n      <td>Smoothie Shop</td>\n      <td>Beer Bar</td>\n      <td>Sandwich Place</td>\n      <td>Distribution Center</td>\n      <td>Diner</td>\n    </tr>\n    <tr>\n      <th>2</th>\n      <td>Downtown Toronto</td>\n      <td>1</td>\n      <td>Clothing Store</td>\n      <td>Coffee Shop</td>\n      <td>Bubble Tea Shop</td>\n      <td>Cosmetics Shop</td>\n      <td>Japanese Restaurant</td>\n      <td>Café</td>\n      <td>Ramen Restaurant</td>\n      <td>Electronics Store</td>\n      <td>Diner</td>\n      <td>Hotel</td>\n    </tr>\n    <tr>\n      <th>3</th>\n      <td>Downtown Toronto</td>\n      <td>1</td>\n      <td>Café</td>\n      <td>Coffee Shop</td>\n      <td>Cocktail Bar</td>\n      <td>Beer Bar</td>\n      <td>American Restaurant</td>\n      <td>Moroccan Restaurant</td>\n      <td>Cosmetics Shop</td>\n      <td>Creperie</td>\n      <td>Lingerie Store</td>\n      <td>Restaurant</td>\n    </tr>\n    <tr>\n      <th>4</th>\n      <td>Downtown Toronto</td>\n      <td>1</td>\n      <td>Coffee Shop</td>\n      <td>Cheese Shop</td>\n      <td>Café</td>\n      <td>Pub</td>\n      <td>Restaurant</td>\n      <td>Beer Bar</td>\n      <td>Seafood Restaurant</td>\n      <td>Farmers Market</td>\n      <td>Cocktail Bar</td>\n      <td>Bakery</td>\n    </tr>\n    <tr>\n      <th>5</th>\n      <td>Downtown Toronto</td>\n      <td>1</td>\n      <td>Coffee Shop</td>\n      <td>Café</td>\n      <td>Sandwich Place</td>\n      <td>Italian Restaurant</td>\n      <td>Salad Place</td>\n      <td>Juice Bar</td>\n      <td>Thai Restaurant</td>\n      <td>Japanese Restaurant</td>\n      <td>Burger Joint</td>\n      <td>Bubble Tea Shop</td>\n    </tr>\n    <tr>\n      <th>7</th>\n      <td>Downtown Toronto</td>\n      <td>1</td>\n      <td>Coffee Shop</td>\n      <td>Café</td>\n      <td>Restaurant</td>\n      <td>Gym</td>\n      <td>Hotel</td>\n      <td>Bar</td>\n      <td>Clothing Store</td>\n      <td>Thai Restaurant</td>\n      <td>Pizza Place</td>\n      <td>Salad Place</td>\n    </tr>\n    <tr>\n      <th>8</th>\n      <td>Downtown Toronto</td>\n      <td>1</td>\n      <td>Coffee Shop</td>\n      <td>Aquarium</td>\n      <td>Hotel</td>\n      <td>Café</td>\n      <td>Brewery</td>\n      <td>Pizza Place</td>\n      <td>Fried Chicken Joint</td>\n      <td>Scenic Lookout</td>\n      <td>Restaurant</td>\n      <td>Park</td>\n    </tr>\n    <tr>\n      <th>9</th>\n      <td>Downtown Toronto</td>\n      <td>1</td>\n      <td>Coffee Shop</td>\n      <td>Hotel</td>\n      <td>Café</td>\n      <td>Restaurant</td>\n      <td>Italian Restaurant</td>\n      <td>Japanese Restaurant</td>\n      <td>Gastropub</td>\n      <td>Seafood Restaurant</td>\n      <td>American Restaurant</td>\n      <td>Steakhouse</td>\n    </tr>\n    <tr>\n      <th>10</th>\n      <td>Downtown Toronto</td>\n      <td>1</td>\n      <td>Coffee Shop</td>\n      <td>Restaurant</td>\n      <td>Café</td>\n      <td>Hotel</td>\n      <td>Gym</td>\n      <td>American Restaurant</td>\n      <td>Gastropub</td>\n      <td>Seafood Restaurant</td>\n      <td>Deli / Bodega</td>\n      <td>Vegetarian / Vegan Restaurant</td>\n    </tr>\n    <tr>\n      <th>15</th>\n      <td>Downtown Toronto</td>\n      <td>1</td>\n      <td>Coffee Shop</td>\n      <td>Pub</td>\n      <td>Café</td>\n      <td>Restaurant</td>\n      <td>Beer Bar</td>\n      <td>Seafood Restaurant</td>\n      <td>Hotel</td>\n      <td>Italian Restaurant</td>\n      <td>Japanese Restaurant</td>\n      <td>Creperie</td>\n    </tr>\n    <tr>\n      <th>17</th>\n      <td>Downtown Toronto</td>\n      <td>1</td>\n      <td>Coffee Shop</td>\n      <td>Café</td>\n      <td>Hotel</td>\n      <td>Restaurant</td>\n      <td>Japanese Restaurant</td>\n      <td>Gym</td>\n      <td>Asian Restaurant</td>\n      <td>Steakhouse</td>\n      <td>American Restaurant</td>\n      <td>Salad Place</td>\n    </tr>\n    <tr>\n      <th>18</th>\n      <td>Downtown Toronto</td>\n      <td>1</td>\n      <td>Coffee Shop</td>\n      <td>Gay Bar</td>\n      <td>Japanese Restaurant</td>\n      <td>Sushi Restaurant</td>\n      <td>Restaurant</td>\n      <td>Yoga Studio</td>\n      <td>Hotel</td>\n      <td>Mediterranean Restaurant</td>\n      <td>Men's Store</td>\n      <td>Café</td>\n    </tr>\n  </tbody>\n</table>\n</div>"
     },
     "metadata": {},
     "execution_count": 129
    }
   ],
   "source": [
    "toronto_merged.loc[toronto_merged['Cluster Labels'] == 1, toronto_merged.columns[[1] + list(range(5, toronto_merged.shape[1]))]]"
   ]
  },
  {
   "cell_type": "markdown",
   "metadata": {},
   "source": [
    "Cluster 3"
   ]
  },
  {
   "cell_type": "code",
   "execution_count": 130,
   "metadata": {},
   "outputs": [
    {
     "output_type": "execute_result",
     "data": {
      "text/plain": "            Borough  Cluster Labels 1st Most Common Venue  \\\n6  Downtown Toronto               2         Grocery Store   \n\n  2nd Most Common Venue 3rd Most Common Venue 4th Most Common Venue  \\\n6                  Café                  Park            Baby Store   \n\n  5th Most Common Venue 6th Most Common Venue 7th Most Common Venue  \\\n6    Athletics & Sports            Restaurant           Candy Store   \n\n  8th Most Common Venue 9th Most Common Venue 10th Most Common Venue  \n6             Nightclub                 Diner            Coffee Shop  ",
      "text/html": "<div>\n<style scoped>\n    .dataframe tbody tr th:only-of-type {\n        vertical-align: middle;\n    }\n\n    .dataframe tbody tr th {\n        vertical-align: top;\n    }\n\n    .dataframe thead th {\n        text-align: right;\n    }\n</style>\n<table border=\"1\" class=\"dataframe\">\n  <thead>\n    <tr style=\"text-align: right;\">\n      <th></th>\n      <th>Borough</th>\n      <th>Cluster Labels</th>\n      <th>1st Most Common Venue</th>\n      <th>2nd Most Common Venue</th>\n      <th>3rd Most Common Venue</th>\n      <th>4th Most Common Venue</th>\n      <th>5th Most Common Venue</th>\n      <th>6th Most Common Venue</th>\n      <th>7th Most Common Venue</th>\n      <th>8th Most Common Venue</th>\n      <th>9th Most Common Venue</th>\n      <th>10th Most Common Venue</th>\n    </tr>\n  </thead>\n  <tbody>\n    <tr>\n      <th>6</th>\n      <td>Downtown Toronto</td>\n      <td>2</td>\n      <td>Grocery Store</td>\n      <td>Café</td>\n      <td>Park</td>\n      <td>Baby Store</td>\n      <td>Athletics &amp; Sports</td>\n      <td>Restaurant</td>\n      <td>Candy Store</td>\n      <td>Nightclub</td>\n      <td>Diner</td>\n      <td>Coffee Shop</td>\n    </tr>\n  </tbody>\n</table>\n</div>"
     },
     "metadata": {},
     "execution_count": 130
    }
   ],
   "source": [
    "toronto_merged.loc[toronto_merged['Cluster Labels'] == 2, toronto_merged.columns[[1] + list(range(5, toronto_merged.shape[1]))]]"
   ]
  },
  {
   "cell_type": "code",
   "execution_count": null,
   "metadata": {},
   "outputs": [],
   "source": []
  }
 ]
}